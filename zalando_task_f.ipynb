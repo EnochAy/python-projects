{
  "cells": [
    {
      "cell_type": "markdown",
      "metadata": {
        "id": "view-in-github",
        "colab_type": "text"
      },
      "source": [
        "<a href=\"https://colab.research.google.com/github/EnochAy/python-projects/blob/master/zalando_task_f.ipynb\" target=\"_parent\"><img src=\"https://colab.research.google.com/assets/colab-badge.svg\" alt=\"Open In Colab\"/></a>"
      ]
    },
    {
      "cell_type": "markdown",
      "metadata": {
        "id": "UIwa7PP75wmY"
      },
      "source": [
        "# Amazon Review-Sentiment Analysis-EDA\n"
      ]
    },
    {
      "cell_type": "markdown",
      "metadata": {
        "id": "W9dGV1ql5wms"
      },
      "source": [
        "\n",
        "Questions\n",
        "1. What are the characteristics of a good/helpful review?\n",
        "2. What is the review behavior among different categories? (optional depending on which data you used, some subsets do not contain different product categories)\n",
        "3. How would you characterize the relationship between good reviews and increased revenues for Amazon? (can be answered theoretically, without data insights from data analysis)\n",
        "4. Which group of reviewers is more valuable to the business?\n",
        "5. Any ideas in order to improve the reviews on Amazon?\n",
        "\n",
        "\n",
        "Helpful count ((Number of Reviews that are helpful Vs. Helpful Vote (Reviews Recommended or do recommend)\n",
        "Asin: ID of the product"
      ]
    },
    {
      "cell_type": "code",
      "execution_count": null,
      "metadata": {
        "id": "Ft1MaPGy5wmw"
      },
      "outputs": [],
      "source": [
        "#Import Necessary Libraries\n",
        "# Dataframe\n",
        "import pandas as pd\n",
        "\n",
        "# Array\n",
        "import numpy as np\n",
        "\n",
        "# Decompress the file\n",
        "import gzip\n",
        "\n",
        "import seaborn as sns\n",
        "# Visualizations\n",
        "import missingno\n",
        "import matplotlib.pyplot as plt\n",
        "from matplotlib.colors import ListedColormap\n",
        "import seaborn as sns\n",
        "import matplotlib.colors as colors\n",
        "%matplotlib inline\n",
        "\n",
        "\n",
        "# Datetime\n",
        "from datetime import datetime\n",
        "# text preprocessing\n",
        "import spacy\n",
        "import re\n",
        "\n",
        "## Warnings\n",
        "import warnings\n",
        "from scipy import stats\n",
        "warnings.filterwarnings('ignore')"
      ]
    },
    {
      "cell_type": "code",
      "execution_count": null,
      "metadata": {
        "id": "dp9of9ru5wm4",
        "outputId": "19b8c420-efac-4185-8e8a-dff921118714"
      },
      "outputs": [
        {
          "ename": "ValueError",
          "evalue": "Expected object or value",
          "output_type": "error",
          "traceback": [
            "\u001b[1;31m---------------------------------------------------------------------------\u001b[0m",
            "\u001b[1;31mValueError\u001b[0m                                Traceback (most recent call last)",
            "\u001b[1;32mc:\\Users\\USER\\OneDrive\\Desktop\\Zalando-Analyst CLV Measurement-wdm position\\zalando_task.f.ipynb Cell 4'\u001b[0m in \u001b[0;36m<cell line: 1>\u001b[1;34m()\u001b[0m\n\u001b[1;32m----> <a href='vscode-notebook-cell:/c%3A/Users/USER/OneDrive/Desktop/Zalando-Analyst%20CLV%20Measurement-wdm%20position/zalando_task.f.ipynb#ch0000003?line=0'>1</a>\u001b[0m df \u001b[39m=\u001b[39m pd\u001b[39m.\u001b[39;49mread_json(\u001b[39m\"\u001b[39;49m\u001b[39mC:/Users/USER/OneDrive/Desktop/Interviews/Zalando-Analyst CLV Measurement-wdm position/case_amazon.json\u001b[39;49m\u001b[39m\"\u001b[39;49m)\n",
            "File \u001b[1;32m~\\AppData\\Roaming\\Python\\Python310\\site-packages\\pandas\\util\\_decorators.py:207\u001b[0m, in \u001b[0;36mdeprecate_kwarg.<locals>._deprecate_kwarg.<locals>.wrapper\u001b[1;34m(*args, **kwargs)\u001b[0m\n\u001b[0;32m    <a href='file:///c%3A/Users/USER/AppData/Roaming/Python/Python310/site-packages/pandas/util/_decorators.py?line=204'>205</a>\u001b[0m     \u001b[39melse\u001b[39;00m:\n\u001b[0;32m    <a href='file:///c%3A/Users/USER/AppData/Roaming/Python/Python310/site-packages/pandas/util/_decorators.py?line=205'>206</a>\u001b[0m         kwargs[new_arg_name] \u001b[39m=\u001b[39m new_arg_value\n\u001b[1;32m--> <a href='file:///c%3A/Users/USER/AppData/Roaming/Python/Python310/site-packages/pandas/util/_decorators.py?line=206'>207</a>\u001b[0m \u001b[39mreturn\u001b[39;00m func(\u001b[39m*\u001b[39margs, \u001b[39m*\u001b[39m\u001b[39m*\u001b[39mkwargs)\n",
            "File \u001b[1;32m~\\AppData\\Roaming\\Python\\Python310\\site-packages\\pandas\\util\\_decorators.py:311\u001b[0m, in \u001b[0;36mdeprecate_nonkeyword_arguments.<locals>.decorate.<locals>.wrapper\u001b[1;34m(*args, **kwargs)\u001b[0m\n\u001b[0;32m    <a href='file:///c%3A/Users/USER/AppData/Roaming/Python/Python310/site-packages/pandas/util/_decorators.py?line=304'>305</a>\u001b[0m \u001b[39mif\u001b[39;00m \u001b[39mlen\u001b[39m(args) \u001b[39m>\u001b[39m num_allow_args:\n\u001b[0;32m    <a href='file:///c%3A/Users/USER/AppData/Roaming/Python/Python310/site-packages/pandas/util/_decorators.py?line=305'>306</a>\u001b[0m     warnings\u001b[39m.\u001b[39mwarn(\n\u001b[0;32m    <a href='file:///c%3A/Users/USER/AppData/Roaming/Python/Python310/site-packages/pandas/util/_decorators.py?line=306'>307</a>\u001b[0m         msg\u001b[39m.\u001b[39mformat(arguments\u001b[39m=\u001b[39marguments),\n\u001b[0;32m    <a href='file:///c%3A/Users/USER/AppData/Roaming/Python/Python310/site-packages/pandas/util/_decorators.py?line=307'>308</a>\u001b[0m         \u001b[39mFutureWarning\u001b[39;00m,\n\u001b[0;32m    <a href='file:///c%3A/Users/USER/AppData/Roaming/Python/Python310/site-packages/pandas/util/_decorators.py?line=308'>309</a>\u001b[0m         stacklevel\u001b[39m=\u001b[39mstacklevel,\n\u001b[0;32m    <a href='file:///c%3A/Users/USER/AppData/Roaming/Python/Python310/site-packages/pandas/util/_decorators.py?line=309'>310</a>\u001b[0m     )\n\u001b[1;32m--> <a href='file:///c%3A/Users/USER/AppData/Roaming/Python/Python310/site-packages/pandas/util/_decorators.py?line=310'>311</a>\u001b[0m \u001b[39mreturn\u001b[39;00m func(\u001b[39m*\u001b[39margs, \u001b[39m*\u001b[39m\u001b[39m*\u001b[39mkwargs)\n",
            "File \u001b[1;32m~\\AppData\\Roaming\\Python\\Python310\\site-packages\\pandas\\io\\json\\_json.py:612\u001b[0m, in \u001b[0;36mread_json\u001b[1;34m(path_or_buf, orient, typ, dtype, convert_axes, convert_dates, keep_default_dates, numpy, precise_float, date_unit, encoding, encoding_errors, lines, chunksize, compression, nrows, storage_options)\u001b[0m\n\u001b[0;32m    <a href='file:///c%3A/Users/USER/AppData/Roaming/Python/Python310/site-packages/pandas/io/json/_json.py?line=608'>609</a>\u001b[0m     \u001b[39mreturn\u001b[39;00m json_reader\n\u001b[0;32m    <a href='file:///c%3A/Users/USER/AppData/Roaming/Python/Python310/site-packages/pandas/io/json/_json.py?line=610'>611</a>\u001b[0m \u001b[39mwith\u001b[39;00m json_reader:\n\u001b[1;32m--> <a href='file:///c%3A/Users/USER/AppData/Roaming/Python/Python310/site-packages/pandas/io/json/_json.py?line=611'>612</a>\u001b[0m     \u001b[39mreturn\u001b[39;00m json_reader\u001b[39m.\u001b[39;49mread()\n",
            "File \u001b[1;32m~\\AppData\\Roaming\\Python\\Python310\\site-packages\\pandas\\io\\json\\_json.py:746\u001b[0m, in \u001b[0;36mJsonReader.read\u001b[1;34m(self)\u001b[0m\n\u001b[0;32m    <a href='file:///c%3A/Users/USER/AppData/Roaming/Python/Python310/site-packages/pandas/io/json/_json.py?line=743'>744</a>\u001b[0m         obj \u001b[39m=\u001b[39m \u001b[39mself\u001b[39m\u001b[39m.\u001b[39m_get_object_parser(\u001b[39mself\u001b[39m\u001b[39m.\u001b[39m_combine_lines(data_lines))\n\u001b[0;32m    <a href='file:///c%3A/Users/USER/AppData/Roaming/Python/Python310/site-packages/pandas/io/json/_json.py?line=744'>745</a>\u001b[0m \u001b[39melse\u001b[39;00m:\n\u001b[1;32m--> <a href='file:///c%3A/Users/USER/AppData/Roaming/Python/Python310/site-packages/pandas/io/json/_json.py?line=745'>746</a>\u001b[0m     obj \u001b[39m=\u001b[39m \u001b[39mself\u001b[39;49m\u001b[39m.\u001b[39;49m_get_object_parser(\u001b[39mself\u001b[39;49m\u001b[39m.\u001b[39;49mdata)\n\u001b[0;32m    <a href='file:///c%3A/Users/USER/AppData/Roaming/Python/Python310/site-packages/pandas/io/json/_json.py?line=746'>747</a>\u001b[0m \u001b[39mself\u001b[39m\u001b[39m.\u001b[39mclose()\n\u001b[0;32m    <a href='file:///c%3A/Users/USER/AppData/Roaming/Python/Python310/site-packages/pandas/io/json/_json.py?line=747'>748</a>\u001b[0m \u001b[39mreturn\u001b[39;00m obj\n",
            "File \u001b[1;32m~\\AppData\\Roaming\\Python\\Python310\\site-packages\\pandas\\io\\json\\_json.py:768\u001b[0m, in \u001b[0;36mJsonReader._get_object_parser\u001b[1;34m(self, json)\u001b[0m\n\u001b[0;32m    <a href='file:///c%3A/Users/USER/AppData/Roaming/Python/Python310/site-packages/pandas/io/json/_json.py?line=765'>766</a>\u001b[0m obj \u001b[39m=\u001b[39m \u001b[39mNone\u001b[39;00m\n\u001b[0;32m    <a href='file:///c%3A/Users/USER/AppData/Roaming/Python/Python310/site-packages/pandas/io/json/_json.py?line=766'>767</a>\u001b[0m \u001b[39mif\u001b[39;00m typ \u001b[39m==\u001b[39m \u001b[39m\"\u001b[39m\u001b[39mframe\u001b[39m\u001b[39m\"\u001b[39m:\n\u001b[1;32m--> <a href='file:///c%3A/Users/USER/AppData/Roaming/Python/Python310/site-packages/pandas/io/json/_json.py?line=767'>768</a>\u001b[0m     obj \u001b[39m=\u001b[39m FrameParser(json, \u001b[39m*\u001b[39;49m\u001b[39m*\u001b[39;49mkwargs)\u001b[39m.\u001b[39;49mparse()\n\u001b[0;32m    <a href='file:///c%3A/Users/USER/AppData/Roaming/Python/Python310/site-packages/pandas/io/json/_json.py?line=769'>770</a>\u001b[0m \u001b[39mif\u001b[39;00m typ \u001b[39m==\u001b[39m \u001b[39m\"\u001b[39m\u001b[39mseries\u001b[39m\u001b[39m\"\u001b[39m \u001b[39mor\u001b[39;00m obj \u001b[39mis\u001b[39;00m \u001b[39mNone\u001b[39;00m:\n\u001b[0;32m    <a href='file:///c%3A/Users/USER/AppData/Roaming/Python/Python310/site-packages/pandas/io/json/_json.py?line=770'>771</a>\u001b[0m     \u001b[39mif\u001b[39;00m \u001b[39mnot\u001b[39;00m \u001b[39misinstance\u001b[39m(dtype, \u001b[39mbool\u001b[39m):\n",
            "File \u001b[1;32m~\\AppData\\Roaming\\Python\\Python310\\site-packages\\pandas\\io\\json\\_json.py:880\u001b[0m, in \u001b[0;36mParser.parse\u001b[1;34m(self)\u001b[0m\n\u001b[0;32m    <a href='file:///c%3A/Users/USER/AppData/Roaming/Python/Python310/site-packages/pandas/io/json/_json.py?line=877'>878</a>\u001b[0m     \u001b[39mself\u001b[39m\u001b[39m.\u001b[39m_parse_numpy()\n\u001b[0;32m    <a href='file:///c%3A/Users/USER/AppData/Roaming/Python/Python310/site-packages/pandas/io/json/_json.py?line=878'>879</a>\u001b[0m \u001b[39melse\u001b[39;00m:\n\u001b[1;32m--> <a href='file:///c%3A/Users/USER/AppData/Roaming/Python/Python310/site-packages/pandas/io/json/_json.py?line=879'>880</a>\u001b[0m     \u001b[39mself\u001b[39;49m\u001b[39m.\u001b[39;49m_parse_no_numpy()\n\u001b[0;32m    <a href='file:///c%3A/Users/USER/AppData/Roaming/Python/Python310/site-packages/pandas/io/json/_json.py?line=881'>882</a>\u001b[0m \u001b[39mif\u001b[39;00m \u001b[39mself\u001b[39m\u001b[39m.\u001b[39mobj \u001b[39mis\u001b[39;00m \u001b[39mNone\u001b[39;00m:\n\u001b[0;32m    <a href='file:///c%3A/Users/USER/AppData/Roaming/Python/Python310/site-packages/pandas/io/json/_json.py?line=882'>883</a>\u001b[0m     \u001b[39mreturn\u001b[39;00m \u001b[39mNone\u001b[39;00m\n",
            "File \u001b[1;32m~\\AppData\\Roaming\\Python\\Python310\\site-packages\\pandas\\io\\json\\_json.py:1133\u001b[0m, in \u001b[0;36mFrameParser._parse_no_numpy\u001b[1;34m(self)\u001b[0m\n\u001b[0;32m   <a href='file:///c%3A/Users/USER/AppData/Roaming/Python/Python310/site-packages/pandas/io/json/_json.py?line=1128'>1129</a>\u001b[0m orient \u001b[39m=\u001b[39m \u001b[39mself\u001b[39m\u001b[39m.\u001b[39morient\n\u001b[0;32m   <a href='file:///c%3A/Users/USER/AppData/Roaming/Python/Python310/site-packages/pandas/io/json/_json.py?line=1130'>1131</a>\u001b[0m \u001b[39mif\u001b[39;00m orient \u001b[39m==\u001b[39m \u001b[39m\"\u001b[39m\u001b[39mcolumns\u001b[39m\u001b[39m\"\u001b[39m:\n\u001b[0;32m   <a href='file:///c%3A/Users/USER/AppData/Roaming/Python/Python310/site-packages/pandas/io/json/_json.py?line=1131'>1132</a>\u001b[0m     \u001b[39mself\u001b[39m\u001b[39m.\u001b[39mobj \u001b[39m=\u001b[39m DataFrame(\n\u001b[1;32m-> <a href='file:///c%3A/Users/USER/AppData/Roaming/Python/Python310/site-packages/pandas/io/json/_json.py?line=1132'>1133</a>\u001b[0m         loads(json, precise_float\u001b[39m=\u001b[39;49m\u001b[39mself\u001b[39;49m\u001b[39m.\u001b[39;49mprecise_float), dtype\u001b[39m=\u001b[39m\u001b[39mNone\u001b[39;00m\n\u001b[0;32m   <a href='file:///c%3A/Users/USER/AppData/Roaming/Python/Python310/site-packages/pandas/io/json/_json.py?line=1133'>1134</a>\u001b[0m     )\n\u001b[0;32m   <a href='file:///c%3A/Users/USER/AppData/Roaming/Python/Python310/site-packages/pandas/io/json/_json.py?line=1134'>1135</a>\u001b[0m \u001b[39melif\u001b[39;00m orient \u001b[39m==\u001b[39m \u001b[39m\"\u001b[39m\u001b[39msplit\u001b[39m\u001b[39m\"\u001b[39m:\n\u001b[0;32m   <a href='file:///c%3A/Users/USER/AppData/Roaming/Python/Python310/site-packages/pandas/io/json/_json.py?line=1135'>1136</a>\u001b[0m     decoded \u001b[39m=\u001b[39m {\n\u001b[0;32m   <a href='file:///c%3A/Users/USER/AppData/Roaming/Python/Python310/site-packages/pandas/io/json/_json.py?line=1136'>1137</a>\u001b[0m         \u001b[39mstr\u001b[39m(k): v\n\u001b[0;32m   <a href='file:///c%3A/Users/USER/AppData/Roaming/Python/Python310/site-packages/pandas/io/json/_json.py?line=1137'>1138</a>\u001b[0m         \u001b[39mfor\u001b[39;00m k, v \u001b[39min\u001b[39;00m loads(json, precise_float\u001b[39m=\u001b[39m\u001b[39mself\u001b[39m\u001b[39m.\u001b[39mprecise_float)\u001b[39m.\u001b[39mitems()\n\u001b[0;32m   <a href='file:///c%3A/Users/USER/AppData/Roaming/Python/Python310/site-packages/pandas/io/json/_json.py?line=1138'>1139</a>\u001b[0m     }\n",
            "\u001b[1;31mValueError\u001b[0m: Expected object or value"
          ]
        }
      ],
      "source": [
        "df = pd.read_json(\"C:/Users/USER/OneDrive/Desktop/Interviews/Zalando-Analyst CLV Measurement-wdm position/case_amazon.json\")"
      ]
    },
    {
      "cell_type": "markdown",
      "metadata": {
        "id": "ebd8Ol8M5wm9"
      },
      "source": [
        "Dataset was obtained from: http://jmcauley.ucsd.edu/data/amazon/links.html"
      ]
    },
    {
      "cell_type": "code",
      "execution_count": null,
      "metadata": {
        "id": "OKQVIucy5wnA",
        "outputId": "dea09a94-e2d7-420a-fc48-f7f1eeb2d18c"
      },
      "outputs": [
        {
          "data": {
            "text/html": [
              "<div>\n",
              "<style scoped>\n",
              "    .dataframe tbody tr th:only-of-type {\n",
              "        vertical-align: middle;\n",
              "    }\n",
              "\n",
              "    .dataframe tbody tr th {\n",
              "        vertical-align: top;\n",
              "    }\n",
              "\n",
              "    .dataframe thead th {\n",
              "        text-align: right;\n",
              "    }\n",
              "</style>\n",
              "<table border=\"1\" class=\"dataframe\">\n",
              "  <thead>\n",
              "    <tr style=\"text-align: right;\">\n",
              "      <th></th>\n",
              "      <th>reviewerID</th>\n",
              "      <th>asin</th>\n",
              "      <th>reviewerName</th>\n",
              "      <th>helpful</th>\n",
              "      <th>reviewText</th>\n",
              "      <th>overall</th>\n",
              "      <th>summary</th>\n",
              "      <th>unixReviewTime</th>\n",
              "      <th>reviewTime</th>\n",
              "    </tr>\n",
              "  </thead>\n",
              "  <tbody>\n",
              "    <tr>\n",
              "      <th>0</th>\n",
              "      <td>ACNGUPJ3A3TM9</td>\n",
              "      <td>0000013714</td>\n",
              "      <td>GCM</td>\n",
              "      <td>[0, 0]</td>\n",
              "      <td>We use this type of hymnal at church.  I was l...</td>\n",
              "      <td>4</td>\n",
              "      <td>Nice Hymnal</td>\n",
              "      <td>1386028800</td>\n",
              "      <td>12 3, 2013</td>\n",
              "    </tr>\n",
              "    <tr>\n",
              "      <th>1</th>\n",
              "      <td>A2SUAM1J3GNN3B</td>\n",
              "      <td>0000013714</td>\n",
              "      <td>J. McDonald</td>\n",
              "      <td>[2, 3]</td>\n",
              "      <td>I bought this for my husband who plays the pia...</td>\n",
              "      <td>5</td>\n",
              "      <td>Heavenly Highway Hymns</td>\n",
              "      <td>1252800000</td>\n",
              "      <td>09 13, 2009</td>\n",
              "    </tr>\n",
              "    <tr>\n",
              "      <th>2</th>\n",
              "      <td>APOZ15IEYQRRR</td>\n",
              "      <td>0000013714</td>\n",
              "      <td>maewest64</td>\n",
              "      <td>[0, 0]</td>\n",
              "      <td>This is a large size hymn book which is great ...</td>\n",
              "      <td>5</td>\n",
              "      <td>Awesome Hymn Book</td>\n",
              "      <td>1362787200</td>\n",
              "      <td>03 9, 2013</td>\n",
              "    </tr>\n",
              "    <tr>\n",
              "      <th>3</th>\n",
              "      <td>AYEDW3BFK53XK</td>\n",
              "      <td>0000013714</td>\n",
              "      <td>Missb</td>\n",
              "      <td>[0, 0]</td>\n",
              "      <td>We use this hymn book at the mission.  It has ...</td>\n",
              "      <td>5</td>\n",
              "      <td>Hand Clapping Toe Tapping Oldies</td>\n",
              "      <td>1325462400</td>\n",
              "      <td>01 2, 2012</td>\n",
              "    </tr>\n",
              "    <tr>\n",
              "      <th>4</th>\n",
              "      <td>A1KLCGLCXYP1U1</td>\n",
              "      <td>0000013714</td>\n",
              "      <td>Paul L \"Paul Lytle\"</td>\n",
              "      <td>[0, 0]</td>\n",
              "      <td>One review advised this book was large print, ...</td>\n",
              "      <td>3</td>\n",
              "      <td>Misleading</td>\n",
              "      <td>1376092800</td>\n",
              "      <td>08 10, 2013</td>\n",
              "    </tr>\n",
              "  </tbody>\n",
              "</table>\n",
              "</div>"
            ],
            "text/plain": [
              "       reviewerID        asin         reviewerName helpful  \\\n",
              "0   ACNGUPJ3A3TM9  0000013714                  GCM  [0, 0]   \n",
              "1  A2SUAM1J3GNN3B  0000013714          J. McDonald  [2, 3]   \n",
              "2   APOZ15IEYQRRR  0000013714            maewest64  [0, 0]   \n",
              "3   AYEDW3BFK53XK  0000013714                Missb  [0, 0]   \n",
              "4  A1KLCGLCXYP1U1  0000013714  Paul L \"Paul Lytle\"  [0, 0]   \n",
              "\n",
              "                                          reviewText  overall  \\\n",
              "0  We use this type of hymnal at church.  I was l...        4   \n",
              "1  I bought this for my husband who plays the pia...        5   \n",
              "2  This is a large size hymn book which is great ...        5   \n",
              "3  We use this hymn book at the mission.  It has ...        5   \n",
              "4  One review advised this book was large print, ...        3   \n",
              "\n",
              "                            summary  unixReviewTime   reviewTime  \n",
              "0                       Nice Hymnal      1386028800   12 3, 2013  \n",
              "1            Heavenly Highway Hymns      1252800000  09 13, 2009  \n",
              "2                 Awesome Hymn Book      1362787200   03 9, 2013  \n",
              "3  Hand Clapping Toe Tapping Oldies      1325462400   01 2, 2012  \n",
              "4                        Misleading      1376092800  08 10, 2013  "
            ]
          },
          "execution_count": 4,
          "metadata": {},
          "output_type": "execute_result"
        }
      ],
      "source": [
        "df.head()"
      ]
    },
    {
      "cell_type": "code",
      "execution_count": null,
      "metadata": {
        "id": "heWtTrxM5wnC",
        "outputId": "1609f198-eda1-4c44-9be7-be6717ff59b9"
      },
      "outputs": [
        {
          "name": "stdout",
          "output_type": "stream",
          "text": [
            "<class 'pandas.core.frame.DataFrame'>\n",
            "Int64Index: 475340 entries, 0 to 499999\n",
            "Data columns (total 10 columns):\n",
            " #   Column          Non-Null Count   Dtype \n",
            "---  ------          --------------   ----- \n",
            " 0   reviewerID      475340 non-null  object\n",
            " 1   asin            475340 non-null  object\n",
            " 2   reviewerName    475340 non-null  object\n",
            " 3   helpful         475340 non-null  object\n",
            " 4   reviewText      475340 non-null  object\n",
            " 5   OverallRating   475340 non-null  int64 \n",
            " 6   summary         475340 non-null  object\n",
            " 7   unixReviewTime  475340 non-null  int64 \n",
            " 8   reviewTime      475340 non-null  object\n",
            " 9   review_text     475340 non-null  object\n",
            "dtypes: int64(2), object(8)\n",
            "memory usage: 56.0+ MB\n"
          ]
        }
      ],
      "source": [
        "df.info()"
      ]
    },
    {
      "cell_type": "code",
      "execution_count": null,
      "metadata": {
        "id": "kenMYi5J5wnH",
        "outputId": "a0d8a7ab-8bf3-43d1-a194-949764d41d9b"
      },
      "outputs": [
        {
          "name": "stdout",
          "output_type": "stream",
          "text": [
            "All data: (500000, 9)\n"
          ]
        },
        {
          "data": {
            "text/html": [
              "<div>\n",
              "<style scoped>\n",
              "    .dataframe tbody tr th:only-of-type {\n",
              "        vertical-align: middle;\n",
              "    }\n",
              "\n",
              "    .dataframe tbody tr th {\n",
              "        vertical-align: top;\n",
              "    }\n",
              "\n",
              "    .dataframe thead th {\n",
              "        text-align: right;\n",
              "    }\n",
              "</style>\n",
              "<table border=\"1\" class=\"dataframe\">\n",
              "  <thead>\n",
              "    <tr style=\"text-align: right;\">\n",
              "      <th></th>\n",
              "      <th>reviewerID</th>\n",
              "      <th>asin</th>\n",
              "      <th>reviewerName</th>\n",
              "      <th>helpful</th>\n",
              "      <th>reviewText</th>\n",
              "      <th>OverallRating</th>\n",
              "      <th>summary</th>\n",
              "      <th>unixReviewTime</th>\n",
              "      <th>reviewTime</th>\n",
              "    </tr>\n",
              "  </thead>\n",
              "  <tbody>\n",
              "    <tr>\n",
              "      <th>0</th>\n",
              "      <td>ACNGUPJ3A3TM9</td>\n",
              "      <td>0000013714</td>\n",
              "      <td>GCM</td>\n",
              "      <td>[0, 0]</td>\n",
              "      <td>We use this type of hymnal at church.  I was l...</td>\n",
              "      <td>4</td>\n",
              "      <td>Nice Hymnal</td>\n",
              "      <td>1386028800</td>\n",
              "      <td>12 3, 2013</td>\n",
              "    </tr>\n",
              "    <tr>\n",
              "      <th>1</th>\n",
              "      <td>A2SUAM1J3GNN3B</td>\n",
              "      <td>0000013714</td>\n",
              "      <td>J. McDonald</td>\n",
              "      <td>[2, 3]</td>\n",
              "      <td>I bought this for my husband who plays the pia...</td>\n",
              "      <td>5</td>\n",
              "      <td>Heavenly Highway Hymns</td>\n",
              "      <td>1252800000</td>\n",
              "      <td>09 13, 2009</td>\n",
              "    </tr>\n",
              "    <tr>\n",
              "      <th>2</th>\n",
              "      <td>APOZ15IEYQRRR</td>\n",
              "      <td>0000013714</td>\n",
              "      <td>maewest64</td>\n",
              "      <td>[0, 0]</td>\n",
              "      <td>This is a large size hymn book which is great ...</td>\n",
              "      <td>5</td>\n",
              "      <td>Awesome Hymn Book</td>\n",
              "      <td>1362787200</td>\n",
              "      <td>03 9, 2013</td>\n",
              "    </tr>\n",
              "    <tr>\n",
              "      <th>3</th>\n",
              "      <td>AYEDW3BFK53XK</td>\n",
              "      <td>0000013714</td>\n",
              "      <td>Missb</td>\n",
              "      <td>[0, 0]</td>\n",
              "      <td>We use this hymn book at the mission.  It has ...</td>\n",
              "      <td>5</td>\n",
              "      <td>Hand Clapping Toe Tapping Oldies</td>\n",
              "      <td>1325462400</td>\n",
              "      <td>01 2, 2012</td>\n",
              "    </tr>\n",
              "    <tr>\n",
              "      <th>4</th>\n",
              "      <td>A1KLCGLCXYP1U1</td>\n",
              "      <td>0000013714</td>\n",
              "      <td>Paul L \"Paul Lytle\"</td>\n",
              "      <td>[0, 0]</td>\n",
              "      <td>One review advised this book was large print, ...</td>\n",
              "      <td>3</td>\n",
              "      <td>Misleading</td>\n",
              "      <td>1376092800</td>\n",
              "      <td>08 10, 2013</td>\n",
              "    </tr>\n",
              "  </tbody>\n",
              "</table>\n",
              "</div>"
            ],
            "text/plain": [
              "       reviewerID        asin         reviewerName helpful  \\\n",
              "0   ACNGUPJ3A3TM9  0000013714                  GCM  [0, 0]   \n",
              "1  A2SUAM1J3GNN3B  0000013714          J. McDonald  [2, 3]   \n",
              "2   APOZ15IEYQRRR  0000013714            maewest64  [0, 0]   \n",
              "3   AYEDW3BFK53XK  0000013714                Missb  [0, 0]   \n",
              "4  A1KLCGLCXYP1U1  0000013714  Paul L \"Paul Lytle\"  [0, 0]   \n",
              "\n",
              "                                          reviewText  OverallRating  \\\n",
              "0  We use this type of hymnal at church.  I was l...              4   \n",
              "1  I bought this for my husband who plays the pia...              5   \n",
              "2  This is a large size hymn book which is great ...              5   \n",
              "3  We use this hymn book at the mission.  It has ...              5   \n",
              "4  One review advised this book was large print, ...              3   \n",
              "\n",
              "                            summary  unixReviewTime   reviewTime  \n",
              "0                       Nice Hymnal      1386028800   12 3, 2013  \n",
              "1            Heavenly Highway Hymns      1252800000  09 13, 2009  \n",
              "2                 Awesome Hymn Book      1362787200   03 9, 2013  \n",
              "3  Hand Clapping Toe Tapping Oldies      1325462400   01 2, 2012  \n",
              "4                        Misleading      1376092800  08 10, 2013  "
            ]
          },
          "execution_count": 5,
          "metadata": {},
          "output_type": "execute_result"
        }
      ],
      "source": [
        "# change column name from overall to OverallRating to make it more descriptive. \n",
        "df = df.rename(columns={'overall': 'OverallRating'})\n",
        "\n",
        "print (\"All data:\", str(df.shape))\n",
        "df.head()"
      ]
    },
    {
      "cell_type": "code",
      "execution_count": null,
      "metadata": {
        "id": "BJVYSVRB5wnK",
        "outputId": "0d3b0cf2-7514-47a7-cb32-b5087d849a1a"
      },
      "outputs": [
        {
          "data": {
            "text/plain": [
              "reviewerID            0\n",
              "asin                  0\n",
              "reviewerName      24660\n",
              "helpful               0\n",
              "reviewText            0\n",
              "OverallRating         0\n",
              "summary               0\n",
              "unixReviewTime        0\n",
              "reviewTime            0\n",
              "dtype: int64"
            ]
          },
          "execution_count": 11,
          "metadata": {},
          "output_type": "execute_result"
        }
      ],
      "source": [
        "df.isnull().sum()"
      ]
    },
    {
      "cell_type": "code",
      "execution_count": null,
      "metadata": {
        "id": "BmZm3NbY5wnO",
        "outputId": "0fae6cd4-0edb-40f9-93de-f1ffbc96e1bc"
      },
      "outputs": [
        {
          "data": {
            "text/plain": [
              "reviewerID        0\n",
              "asin              0\n",
              "reviewerName      0\n",
              "helpful           0\n",
              "reviewText        0\n",
              "OverallRating     0\n",
              "summary           0\n",
              "unixReviewTime    0\n",
              "reviewTime        0\n",
              "dtype: int64"
            ]
          },
          "execution_count": 13,
          "metadata": {},
          "output_type": "execute_result"
        }
      ],
      "source": [
        "df.dropna(inplace=True)\n",
        "df.isnull().sum()"
      ]
    },
    {
      "cell_type": "code",
      "execution_count": null,
      "metadata": {
        "id": "6jiCYcMI5wnS",
        "outputId": "c27be1a3-09ab-43d9-a462-e387c34649c4"
      },
      "outputs": [
        {
          "data": {
            "text/html": [
              "<div>\n",
              "<style scoped>\n",
              "    .dataframe tbody tr th:only-of-type {\n",
              "        vertical-align: middle;\n",
              "    }\n",
              "\n",
              "    .dataframe tbody tr th {\n",
              "        vertical-align: top;\n",
              "    }\n",
              "\n",
              "    .dataframe thead th {\n",
              "        text-align: right;\n",
              "    }\n",
              "</style>\n",
              "<table border=\"1\" class=\"dataframe\">\n",
              "  <thead>\n",
              "    <tr style=\"text-align: right;\">\n",
              "      <th></th>\n",
              "      <th>reviewerID</th>\n",
              "      <th>asin</th>\n",
              "      <th>reviewerName</th>\n",
              "      <th>helpful</th>\n",
              "      <th>reviewText</th>\n",
              "      <th>OverallRating</th>\n",
              "      <th>summary</th>\n",
              "      <th>unixReviewTime</th>\n",
              "      <th>reviewTime</th>\n",
              "    </tr>\n",
              "  </thead>\n",
              "  <tbody>\n",
              "    <tr>\n",
              "      <th>0</th>\n",
              "      <td>ACNGUPJ3A3TM9</td>\n",
              "      <td>0000013714</td>\n",
              "      <td>GCM</td>\n",
              "      <td>[0, 0]</td>\n",
              "      <td>We use this type of hymnal at church.  I was l...</td>\n",
              "      <td>4</td>\n",
              "      <td>Nice Hymnal</td>\n",
              "      <td>1386028800</td>\n",
              "      <td>12 3, 2013</td>\n",
              "    </tr>\n",
              "    <tr>\n",
              "      <th>1</th>\n",
              "      <td>A2SUAM1J3GNN3B</td>\n",
              "      <td>0000013714</td>\n",
              "      <td>J. McDonald</td>\n",
              "      <td>[2, 3]</td>\n",
              "      <td>I bought this for my husband who plays the pia...</td>\n",
              "      <td>5</td>\n",
              "      <td>Heavenly Highway Hymns</td>\n",
              "      <td>1252800000</td>\n",
              "      <td>09 13, 2009</td>\n",
              "    </tr>\n",
              "    <tr>\n",
              "      <th>2</th>\n",
              "      <td>APOZ15IEYQRRR</td>\n",
              "      <td>0000013714</td>\n",
              "      <td>maewest64</td>\n",
              "      <td>[0, 0]</td>\n",
              "      <td>This is a large size hymn book which is great ...</td>\n",
              "      <td>5</td>\n",
              "      <td>Awesome Hymn Book</td>\n",
              "      <td>1362787200</td>\n",
              "      <td>03 9, 2013</td>\n",
              "    </tr>\n",
              "    <tr>\n",
              "      <th>3</th>\n",
              "      <td>AYEDW3BFK53XK</td>\n",
              "      <td>0000013714</td>\n",
              "      <td>Missb</td>\n",
              "      <td>[0, 0]</td>\n",
              "      <td>We use this hymn book at the mission.  It has ...</td>\n",
              "      <td>5</td>\n",
              "      <td>Hand Clapping Toe Tapping Oldies</td>\n",
              "      <td>1325462400</td>\n",
              "      <td>01 2, 2012</td>\n",
              "    </tr>\n",
              "    <tr>\n",
              "      <th>4</th>\n",
              "      <td>A1KLCGLCXYP1U1</td>\n",
              "      <td>0000013714</td>\n",
              "      <td>Paul L \"Paul Lytle\"</td>\n",
              "      <td>[0, 0]</td>\n",
              "      <td>One review advised this book was large print, ...</td>\n",
              "      <td>3</td>\n",
              "      <td>Misleading</td>\n",
              "      <td>1376092800</td>\n",
              "      <td>08 10, 2013</td>\n",
              "    </tr>\n",
              "  </tbody>\n",
              "</table>\n",
              "</div>"
            ],
            "text/plain": [
              "       reviewerID        asin         reviewerName helpful  \\\n",
              "0   ACNGUPJ3A3TM9  0000013714                  GCM  [0, 0]   \n",
              "1  A2SUAM1J3GNN3B  0000013714          J. McDonald  [2, 3]   \n",
              "2   APOZ15IEYQRRR  0000013714            maewest64  [0, 0]   \n",
              "3   AYEDW3BFK53XK  0000013714                Missb  [0, 0]   \n",
              "4  A1KLCGLCXYP1U1  0000013714  Paul L \"Paul Lytle\"  [0, 0]   \n",
              "\n",
              "                                          reviewText  OverallRating  \\\n",
              "0  We use this type of hymnal at church.  I was l...              4   \n",
              "1  I bought this for my husband who plays the pia...              5   \n",
              "2  This is a large size hymn book which is great ...              5   \n",
              "3  We use this hymn book at the mission.  It has ...              5   \n",
              "4  One review advised this book was large print, ...              3   \n",
              "\n",
              "                            summary  unixReviewTime   reviewTime  \n",
              "0                       Nice Hymnal      1386028800   12 3, 2013  \n",
              "1            Heavenly Highway Hymns      1252800000  09 13, 2009  \n",
              "2                 Awesome Hymn Book      1362787200   03 9, 2013  \n",
              "3  Hand Clapping Toe Tapping Oldies      1325462400   01 2, 2012  \n",
              "4                        Misleading      1376092800  08 10, 2013  "
            ]
          },
          "execution_count": 14,
          "metadata": {},
          "output_type": "execute_result"
        }
      ],
      "source": [
        "df.head()"
      ]
    },
    {
      "cell_type": "code",
      "execution_count": null,
      "metadata": {
        "id": "WOuS4X665wnU",
        "outputId": "5fc3973f-7320-492a-ba78-de2d628acdb3"
      },
      "outputs": [
        {
          "name": "stdout",
          "output_type": "stream",
          "text": [
            "<class 'pandas.core.frame.DataFrame'>\n",
            "Int64Index: 475340 entries, 0 to 499999\n",
            "Data columns (total 9 columns):\n",
            " #   Column          Non-Null Count   Dtype \n",
            "---  ------          --------------   ----- \n",
            " 0   reviewerID      475340 non-null  object\n",
            " 1   asin            475340 non-null  object\n",
            " 2   reviewerName    475340 non-null  object\n",
            " 3   helpful         475340 non-null  object\n",
            " 4   reviewText      475340 non-null  object\n",
            " 5   OverallRating   475340 non-null  int64 \n",
            " 6   summary         475340 non-null  object\n",
            " 7   unixReviewTime  475340 non-null  int64 \n",
            " 8   reviewTime      475340 non-null  object\n",
            "dtypes: int64(2), object(7)\n",
            "memory usage: 36.3+ MB\n"
          ]
        }
      ],
      "source": [
        "df.info()"
      ]
    },
    {
      "cell_type": "code",
      "execution_count": null,
      "metadata": {
        "id": "F5eQQd5g5wnX"
      },
      "outputs": [],
      "source": [
        "df.to_csv(\"C:/Users/USER/OneDrive/Desktop/Interviews/Zalando-Analyst CLV Measurement-wdm position/case_amazon.csv\", sep=',', encoding='utf-8', index = False)"
      ]
    },
    {
      "cell_type": "code",
      "execution_count": null,
      "metadata": {
        "id": "qJBcub735wnZ",
        "outputId": "944f8bdd-7abe-4270-da40-8b430e7b2506"
      },
      "outputs": [
        {
          "data": {
            "text/html": [
              "<div>\n",
              "<style scoped>\n",
              "    .dataframe tbody tr th:only-of-type {\n",
              "        vertical-align: middle;\n",
              "    }\n",
              "\n",
              "    .dataframe tbody tr th {\n",
              "        vertical-align: top;\n",
              "    }\n",
              "\n",
              "    .dataframe thead th {\n",
              "        text-align: right;\n",
              "    }\n",
              "</style>\n",
              "<table border=\"1\" class=\"dataframe\">\n",
              "  <thead>\n",
              "    <tr style=\"text-align: right;\">\n",
              "      <th></th>\n",
              "      <th>reviewerID</th>\n",
              "      <th>asin</th>\n",
              "      <th>reviewerName</th>\n",
              "      <th>helpful</th>\n",
              "      <th>OverallRating</th>\n",
              "      <th>unixReviewTime</th>\n",
              "      <th>reviewTime</th>\n",
              "      <th>review_text</th>\n",
              "    </tr>\n",
              "  </thead>\n",
              "  <tbody>\n",
              "    <tr>\n",
              "      <th>0</th>\n",
              "      <td>ACNGUPJ3A3TM9</td>\n",
              "      <td>0000013714</td>\n",
              "      <td>GCM</td>\n",
              "      <td>[0, 0]</td>\n",
              "      <td>4</td>\n",
              "      <td>1386028800</td>\n",
              "      <td>12 3, 2013</td>\n",
              "      <td>Nice Hymnal We use this type of hymnal at chur...</td>\n",
              "    </tr>\n",
              "    <tr>\n",
              "      <th>1</th>\n",
              "      <td>A2SUAM1J3GNN3B</td>\n",
              "      <td>0000013714</td>\n",
              "      <td>J. McDonald</td>\n",
              "      <td>[2, 3]</td>\n",
              "      <td>5</td>\n",
              "      <td>1252800000</td>\n",
              "      <td>09 13, 2009</td>\n",
              "      <td>Heavenly Highway Hymns I bought this for my hu...</td>\n",
              "    </tr>\n",
              "    <tr>\n",
              "      <th>2</th>\n",
              "      <td>APOZ15IEYQRRR</td>\n",
              "      <td>0000013714</td>\n",
              "      <td>maewest64</td>\n",
              "      <td>[0, 0]</td>\n",
              "      <td>5</td>\n",
              "      <td>1362787200</td>\n",
              "      <td>03 9, 2013</td>\n",
              "      <td>Awesome Hymn Book This is a large size hymn bo...</td>\n",
              "    </tr>\n",
              "    <tr>\n",
              "      <th>3</th>\n",
              "      <td>AYEDW3BFK53XK</td>\n",
              "      <td>0000013714</td>\n",
              "      <td>Missb</td>\n",
              "      <td>[0, 0]</td>\n",
              "      <td>5</td>\n",
              "      <td>1325462400</td>\n",
              "      <td>01 2, 2012</td>\n",
              "      <td>Hand Clapping Toe Tapping Oldies We use this h...</td>\n",
              "    </tr>\n",
              "    <tr>\n",
              "      <th>4</th>\n",
              "      <td>A1KLCGLCXYP1U1</td>\n",
              "      <td>0000013714</td>\n",
              "      <td>Paul L \"Paul Lytle\"</td>\n",
              "      <td>[0, 0]</td>\n",
              "      <td>3</td>\n",
              "      <td>1376092800</td>\n",
              "      <td>08 10, 2013</td>\n",
              "      <td>Misleading One review advised this book was la...</td>\n",
              "    </tr>\n",
              "  </tbody>\n",
              "</table>\n",
              "</div>"
            ],
            "text/plain": [
              "       reviewerID        asin         reviewerName helpful  OverallRating  \\\n",
              "0   ACNGUPJ3A3TM9  0000013714                  GCM  [0, 0]              4   \n",
              "1  A2SUAM1J3GNN3B  0000013714          J. McDonald  [2, 3]              5   \n",
              "2   APOZ15IEYQRRR  0000013714            maewest64  [0, 0]              5   \n",
              "3   AYEDW3BFK53XK  0000013714                Missb  [0, 0]              5   \n",
              "4  A1KLCGLCXYP1U1  0000013714  Paul L \"Paul Lytle\"  [0, 0]              3   \n",
              "\n",
              "   unixReviewTime   reviewTime  \\\n",
              "0      1386028800   12 3, 2013   \n",
              "1      1252800000  09 13, 2009   \n",
              "2      1362787200   03 9, 2013   \n",
              "3      1325462400   01 2, 2012   \n",
              "4      1376092800  08 10, 2013   \n",
              "\n",
              "                                         review_text  \n",
              "0  Nice Hymnal We use this type of hymnal at chur...  \n",
              "1  Heavenly Highway Hymns I bought this for my hu...  \n",
              "2  Awesome Hymn Book This is a large size hymn bo...  \n",
              "3  Hand Clapping Toe Tapping Oldies We use this h...  \n",
              "4  Misleading One review advised this book was la...  "
            ]
          },
          "execution_count": 17,
          "metadata": {},
          "output_type": "execute_result"
        }
      ],
      "source": [
        "\"\"\"\n",
        "concatenate summary and reviewText columns and rename it review_text\n",
        "Then, drop the redundant columns, summary and reviewText. \n",
        "Finally, print out the first five rows.\n",
        "\"\"\"\n",
        "\n",
        "df['review_text'] = df[['summary', 'reviewText']].apply(lambda x: \" \".join(str(y) for y in x if str(y) != 'nan'), axis = 1)\n",
        "df1 = df.drop(['reviewText', 'summary'], axis = 1)\n",
        "df1.head()"
      ]
    },
    {
      "cell_type": "code",
      "execution_count": null,
      "metadata": {
        "id": "BNGDAGEp5wnb",
        "outputId": "5173a01e-4667-4820-ee34-47ebe4e553d1"
      },
      "outputs": [
        {
          "name": "stdout",
          "output_type": "stream",
          "text": [
            "<class 'pandas.core.frame.DataFrame'>\n",
            "Int64Index: 475340 entries, 0 to 499999\n",
            "Data columns (total 8 columns):\n",
            " #   Column          Non-Null Count   Dtype \n",
            "---  ------          --------------   ----- \n",
            " 0   reviewerID      475340 non-null  object\n",
            " 1   asin            475340 non-null  object\n",
            " 2   reviewerName    475340 non-null  object\n",
            " 3   helpful         475340 non-null  object\n",
            " 4   OverallRating   475340 non-null  int64 \n",
            " 5   unixReviewTime  475340 non-null  int64 \n",
            " 6   reviewTime      475340 non-null  object\n",
            " 7   review_text     475340 non-null  object\n",
            "dtypes: int64(2), object(6)\n",
            "memory usage: 32.6+ MB\n"
          ]
        }
      ],
      "source": [
        "df1.info()"
      ]
    },
    {
      "cell_type": "code",
      "execution_count": null,
      "metadata": {
        "id": "8kJQ3z6v5wnd",
        "outputId": "ec36d245-00bf-4624-cc67-dfb540334def"
      },
      "outputs": [
        {
          "data": {
            "text/plain": [
              "0         Nice Hymnal We use this type of hymnal at chur...\n",
              "1         Heavenly Highway Hymns I bought this for my hu...\n",
              "2         Awesome Hymn Book This is a large size hymn bo...\n",
              "3         Hand Clapping Toe Tapping Oldies We use this h...\n",
              "4         Misleading One review advised this book was la...\n",
              "                                ...                        \n",
              "499995    The Vampire Diaries this book isn't the best o...\n",
              "499996    Loved it! I loved reading the back story of tw...\n",
              "499997    A great read for the show fans This book has b...\n",
              "499998    A Pathetic Attempt at Keeping TVD Alive! First...\n",
              "499999    understanding stephan all vampire diaries book...\n",
              "Name: review_text, Length: 475008, dtype: object"
            ]
          },
          "execution_count": 65,
          "metadata": {},
          "output_type": "execute_result"
        }
      ],
      "source": [
        "df1['review_text']"
      ]
    },
    {
      "cell_type": "code",
      "execution_count": null,
      "metadata": {
        "id": "LUNntf9n5wnf",
        "outputId": "70deef34-f09d-43ac-ccbb-5e49786dac22"
      },
      "outputs": [
        {
          "data": {
            "text/html": [
              "<div>\n",
              "<style scoped>\n",
              "    .dataframe tbody tr th:only-of-type {\n",
              "        vertical-align: middle;\n",
              "    }\n",
              "\n",
              "    .dataframe tbody tr th {\n",
              "        vertical-align: top;\n",
              "    }\n",
              "\n",
              "    .dataframe thead th {\n",
              "        text-align: right;\n",
              "    }\n",
              "</style>\n",
              "<table border=\"1\" class=\"dataframe\">\n",
              "  <thead>\n",
              "    <tr style=\"text-align: right;\">\n",
              "      <th></th>\n",
              "      <th>reviewerID</th>\n",
              "      <th>asin</th>\n",
              "      <th>reviewerName</th>\n",
              "      <th>OverallRating</th>\n",
              "      <th>unixReviewTime</th>\n",
              "      <th>reviewTime</th>\n",
              "      <th>review_text</th>\n",
              "      <th>positive_feedback</th>\n",
              "      <th>negative_feedback</th>\n",
              "    </tr>\n",
              "  </thead>\n",
              "  <tbody>\n",
              "    <tr>\n",
              "      <th>0</th>\n",
              "      <td>ACNGUPJ3A3TM9</td>\n",
              "      <td>0000013714</td>\n",
              "      <td>GCM</td>\n",
              "      <td>4</td>\n",
              "      <td>1386028800</td>\n",
              "      <td>12 3, 2013</td>\n",
              "      <td>Nice Hymnal We use this type of hymnal at chur...</td>\n",
              "      <td>0</td>\n",
              "      <td>0</td>\n",
              "    </tr>\n",
              "    <tr>\n",
              "      <th>1</th>\n",
              "      <td>A2SUAM1J3GNN3B</td>\n",
              "      <td>0000013714</td>\n",
              "      <td>J. McDonald</td>\n",
              "      <td>5</td>\n",
              "      <td>1252800000</td>\n",
              "      <td>09 13, 2009</td>\n",
              "      <td>Heavenly Highway Hymns I bought this for my hu...</td>\n",
              "      <td>2</td>\n",
              "      <td>1</td>\n",
              "    </tr>\n",
              "    <tr>\n",
              "      <th>2</th>\n",
              "      <td>APOZ15IEYQRRR</td>\n",
              "      <td>0000013714</td>\n",
              "      <td>maewest64</td>\n",
              "      <td>5</td>\n",
              "      <td>1362787200</td>\n",
              "      <td>03 9, 2013</td>\n",
              "      <td>Awesome Hymn Book This is a large size hymn bo...</td>\n",
              "      <td>0</td>\n",
              "      <td>0</td>\n",
              "    </tr>\n",
              "    <tr>\n",
              "      <th>3</th>\n",
              "      <td>AYEDW3BFK53XK</td>\n",
              "      <td>0000013714</td>\n",
              "      <td>Missb</td>\n",
              "      <td>5</td>\n",
              "      <td>1325462400</td>\n",
              "      <td>01 2, 2012</td>\n",
              "      <td>Hand Clapping Toe Tapping Oldies We use this h...</td>\n",
              "      <td>0</td>\n",
              "      <td>0</td>\n",
              "    </tr>\n",
              "    <tr>\n",
              "      <th>4</th>\n",
              "      <td>A1KLCGLCXYP1U1</td>\n",
              "      <td>0000013714</td>\n",
              "      <td>Paul L \"Paul Lytle\"</td>\n",
              "      <td>3</td>\n",
              "      <td>1376092800</td>\n",
              "      <td>08 10, 2013</td>\n",
              "      <td>Misleading One review advised this book was la...</td>\n",
              "      <td>0</td>\n",
              "      <td>0</td>\n",
              "    </tr>\n",
              "  </tbody>\n",
              "</table>\n",
              "</div>"
            ],
            "text/plain": [
              "       reviewerID        asin         reviewerName  OverallRating  \\\n",
              "0   ACNGUPJ3A3TM9  0000013714                  GCM              4   \n",
              "1  A2SUAM1J3GNN3B  0000013714          J. McDonald              5   \n",
              "2   APOZ15IEYQRRR  0000013714            maewest64              5   \n",
              "3   AYEDW3BFK53XK  0000013714                Missb              5   \n",
              "4  A1KLCGLCXYP1U1  0000013714  Paul L \"Paul Lytle\"              3   \n",
              "\n",
              "   unixReviewTime   reviewTime  \\\n",
              "0      1386028800   12 3, 2013   \n",
              "1      1252800000  09 13, 2009   \n",
              "2      1362787200   03 9, 2013   \n",
              "3      1325462400   01 2, 2012   \n",
              "4      1376092800  08 10, 2013   \n",
              "\n",
              "                                         review_text  positive_feedback  \\\n",
              "0  Nice Hymnal We use this type of hymnal at chur...                  0   \n",
              "1  Heavenly Highway Hymns I bought this for my hu...                  2   \n",
              "2  Awesome Hymn Book This is a large size hymn bo...                  0   \n",
              "3  Hand Clapping Toe Tapping Oldies We use this h...                  0   \n",
              "4  Misleading One review advised this book was la...                  0   \n",
              "\n",
              "   negative_feedback  \n",
              "0                  0  \n",
              "1                  1  \n",
              "2                  0  \n",
              "3                  0  \n",
              "4                  0  "
            ]
          },
          "execution_count": 23,
          "metadata": {},
          "output_type": "execute_result"
        }
      ],
      "source": [
        "## Split 'helpful' column into 'negative_feedback' and 'positive_feedback' and drop it at the end\n",
        "\n",
        "list_positive = []\n",
        "list_negative = []\n",
        "\n",
        "for help in df1['helpful']:\n",
        "    list_positive.append(help[0])\n",
        "    list_negative.append(help[1] - help[0])\n",
        "    \n",
        "# Positive Feedback (Supporting reviewer's idea and find it useful)\n",
        "df1['positive_feedback'] = list_positive\n",
        "\n",
        "# Negative Feedback (Finding reviewer's idea useless and not supporting it)\n",
        "df1['negative_feedback'] = list_negative\n",
        "\n",
        "# Drop redundant 'helpful' column\n",
        "df1 = df1.drop('helpful', axis = 1)\n",
        "df1.head()"
      ]
    },
    {
      "cell_type": "code",
      "execution_count": null,
      "metadata": {
        "id": "2rYcwXB_5wnh",
        "outputId": "03e60f83-9927-41d8-fac4-a0b093393505"
      },
      "outputs": [
        {
          "name": "stdout",
          "output_type": "stream",
          "text": [
            "<class 'pandas.core.frame.DataFrame'>\n",
            "Int64Index: 475340 entries, 0 to 499999\n",
            "Data columns (total 9 columns):\n",
            " #   Column             Non-Null Count   Dtype \n",
            "---  ------             --------------   ----- \n",
            " 0   reviewerID         475340 non-null  object\n",
            " 1   asin               475340 non-null  object\n",
            " 2   reviewerName       475340 non-null  object\n",
            " 3   OverallRating      475340 non-null  int64 \n",
            " 4   unixReviewTime     475340 non-null  int64 \n",
            " 5   reviewTime         475340 non-null  object\n",
            " 6   review_text        475340 non-null  object\n",
            " 7   positive_feedback  475340 non-null  int64 \n",
            " 8   negative_feedback  475340 non-null  int64 \n",
            "dtypes: int64(4), object(5)\n",
            "memory usage: 52.4+ MB\n"
          ]
        }
      ],
      "source": [
        "df1.info()"
      ]
    },
    {
      "cell_type": "code",
      "execution_count": null,
      "metadata": {
        "id": "nTj2zF0s5wni",
        "outputId": "cb4fa30d-7dc6-4d3a-9d8b-8337ef0ef409"
      },
      "outputs": [
        {
          "name": "stdout",
          "output_type": "stream",
          "text": [
            "Good ratings : 426999 reviews for products\n",
            "Bad ratings : 48341 reviews for products\n"
          ]
        }
      ],
      "source": [
        "## Classify ratings as good\n",
        "\n",
        "good_rate = len(df1[df1['OverallRating'] >= 3])\n",
        "bad_rate = len(df1[df1['OverallRating'] < 3])\n",
        "\n",
        "# Printing rates and their total numbers\n",
        "print ('Good ratings : {} reviews for products'.format(good_rate))\n",
        "print ('Bad ratings : {} reviews for products'.format(bad_rate))"
      ]
    },
    {
      "cell_type": "code",
      "execution_count": null,
      "metadata": {
        "id": "0SfeQ5Ge5wnl",
        "outputId": "6ced7065-7b9d-41a7-e204-94be6d82f57d"
      },
      "outputs": [
        {
          "name": "stdout",
          "output_type": "stream",
          "text": [
            "<class 'pandas.core.frame.DataFrame'>\n",
            "Int64Index: 475340 entries, 0 to 499999\n",
            "Data columns (total 9 columns):\n",
            " #   Column             Non-Null Count   Dtype \n",
            "---  ------             --------------   ----- \n",
            " 0   reviewerID         475340 non-null  object\n",
            " 1   asin               475340 non-null  object\n",
            " 2   reviewerName       475340 non-null  object\n",
            " 3   OverallRating      475340 non-null  int64 \n",
            " 4   unixReviewTime     475340 non-null  int64 \n",
            " 5   reviewTime         475340 non-null  object\n",
            " 6   review_text        475340 non-null  object\n",
            " 7   positive_feedback  475340 non-null  int64 \n",
            " 8   negative_feedback  475340 non-null  int64 \n",
            "dtypes: int64(4), object(5)\n",
            "memory usage: 52.4+ MB\n"
          ]
        }
      ],
      "source": [
        "df1.info()"
      ]
    },
    {
      "cell_type": "code",
      "execution_count": null,
      "metadata": {
        "id": "DcpTN0kP5wnn",
        "outputId": "35bb063b-330e-4d4e-e3c9-6c412ead9e93"
      },
      "outputs": [
        {
          "data": {
            "text/html": [
              "<div>\n",
              "<style scoped>\n",
              "    .dataframe tbody tr th:only-of-type {\n",
              "        vertical-align: middle;\n",
              "    }\n",
              "\n",
              "    .dataframe tbody tr th {\n",
              "        vertical-align: top;\n",
              "    }\n",
              "\n",
              "    .dataframe thead th {\n",
              "        text-align: right;\n",
              "    }\n",
              "</style>\n",
              "<table border=\"1\" class=\"dataframe\">\n",
              "  <thead>\n",
              "    <tr style=\"text-align: right;\">\n",
              "      <th></th>\n",
              "      <th>reviewerID</th>\n",
              "      <th>asin</th>\n",
              "      <th>reviewerName</th>\n",
              "      <th>OverallRating</th>\n",
              "      <th>unixReviewTime</th>\n",
              "      <th>reviewTime</th>\n",
              "      <th>review_text</th>\n",
              "      <th>positive_feedback</th>\n",
              "      <th>negative_feedback</th>\n",
              "      <th>rating_class</th>\n",
              "    </tr>\n",
              "  </thead>\n",
              "  <tbody>\n",
              "    <tr>\n",
              "      <th>0</th>\n",
              "      <td>ACNGUPJ3A3TM9</td>\n",
              "      <td>0000013714</td>\n",
              "      <td>GCM</td>\n",
              "      <td>4</td>\n",
              "      <td>1386028800</td>\n",
              "      <td>12 3, 2013</td>\n",
              "      <td>Nice Hymnal We use this type of hymnal at chur...</td>\n",
              "      <td>0</td>\n",
              "      <td>0</td>\n",
              "      <td>good</td>\n",
              "    </tr>\n",
              "    <tr>\n",
              "      <th>1</th>\n",
              "      <td>A2SUAM1J3GNN3B</td>\n",
              "      <td>0000013714</td>\n",
              "      <td>J. McDonald</td>\n",
              "      <td>5</td>\n",
              "      <td>1252800000</td>\n",
              "      <td>09 13, 2009</td>\n",
              "      <td>Heavenly Highway Hymns I bought this for my hu...</td>\n",
              "      <td>2</td>\n",
              "      <td>1</td>\n",
              "      <td>good</td>\n",
              "    </tr>\n",
              "    <tr>\n",
              "      <th>2</th>\n",
              "      <td>APOZ15IEYQRRR</td>\n",
              "      <td>0000013714</td>\n",
              "      <td>maewest64</td>\n",
              "      <td>5</td>\n",
              "      <td>1362787200</td>\n",
              "      <td>03 9, 2013</td>\n",
              "      <td>Awesome Hymn Book This is a large size hymn bo...</td>\n",
              "      <td>0</td>\n",
              "      <td>0</td>\n",
              "      <td>good</td>\n",
              "    </tr>\n",
              "    <tr>\n",
              "      <th>3</th>\n",
              "      <td>AYEDW3BFK53XK</td>\n",
              "      <td>0000013714</td>\n",
              "      <td>Missb</td>\n",
              "      <td>5</td>\n",
              "      <td>1325462400</td>\n",
              "      <td>01 2, 2012</td>\n",
              "      <td>Hand Clapping Toe Tapping Oldies We use this h...</td>\n",
              "      <td>0</td>\n",
              "      <td>0</td>\n",
              "      <td>good</td>\n",
              "    </tr>\n",
              "    <tr>\n",
              "      <th>4</th>\n",
              "      <td>A1KLCGLCXYP1U1</td>\n",
              "      <td>0000013714</td>\n",
              "      <td>Paul L \"Paul Lytle\"</td>\n",
              "      <td>3</td>\n",
              "      <td>1376092800</td>\n",
              "      <td>08 10, 2013</td>\n",
              "      <td>Misleading One review advised this book was la...</td>\n",
              "      <td>0</td>\n",
              "      <td>0</td>\n",
              "      <td>good</td>\n",
              "    </tr>\n",
              "  </tbody>\n",
              "</table>\n",
              "</div>"
            ],
            "text/plain": [
              "       reviewerID        asin         reviewerName  OverallRating  \\\n",
              "0   ACNGUPJ3A3TM9  0000013714                  GCM              4   \n",
              "1  A2SUAM1J3GNN3B  0000013714          J. McDonald              5   \n",
              "2   APOZ15IEYQRRR  0000013714            maewest64              5   \n",
              "3   AYEDW3BFK53XK  0000013714                Missb              5   \n",
              "4  A1KLCGLCXYP1U1  0000013714  Paul L \"Paul Lytle\"              3   \n",
              "\n",
              "   unixReviewTime   reviewTime  \\\n",
              "0      1386028800   12 3, 2013   \n",
              "1      1252800000  09 13, 2009   \n",
              "2      1362787200   03 9, 2013   \n",
              "3      1325462400   01 2, 2012   \n",
              "4      1376092800  08 10, 2013   \n",
              "\n",
              "                                         review_text  positive_feedback  \\\n",
              "0  Nice Hymnal We use this type of hymnal at chur...                  0   \n",
              "1  Heavenly Highway Hymns I bought this for my hu...                  2   \n",
              "2  Awesome Hymn Book This is a large size hymn bo...                  0   \n",
              "3  Hand Clapping Toe Tapping Oldies We use this h...                  0   \n",
              "4  Misleading One review advised this book was la...                  0   \n",
              "\n",
              "   negative_feedback rating_class  \n",
              "0                  0         good  \n",
              "1                  1         good  \n",
              "2                  0         good  \n",
              "3                  0         good  \n",
              "4                  0         good  "
            ]
          },
          "execution_count": 30,
          "metadata": {},
          "output_type": "execute_result"
        }
      ],
      "source": [
        "# Apply the new classification to the ratings column\n",
        "df1['rating_class'] = df1['OverallRating'].apply(lambda x: 'bad' if x < 3 else'good')\n",
        "df1.head()"
      ]
    },
    {
      "cell_type": "code",
      "execution_count": null,
      "metadata": {
        "id": "ko4cr6H65wnp",
        "outputId": "618d575d-3c3e-498a-a640-42d1b2080465"
      },
      "outputs": [
        {
          "data": {
            "text/html": [
              "<div>\n",
              "<style scoped>\n",
              "    .dataframe tbody tr th:only-of-type {\n",
              "        vertical-align: middle;\n",
              "    }\n",
              "\n",
              "    .dataframe tbody tr th {\n",
              "        vertical-align: top;\n",
              "    }\n",
              "\n",
              "    .dataframe thead th {\n",
              "        text-align: right;\n",
              "    }\n",
              "</style>\n",
              "<table border=\"1\" class=\"dataframe\">\n",
              "  <thead>\n",
              "    <tr style=\"text-align: right;\">\n",
              "      <th></th>\n",
              "      <th>reviewerID</th>\n",
              "      <th>asin</th>\n",
              "      <th>reviewerName</th>\n",
              "      <th>OverallRating</th>\n",
              "      <th>unixReviewTime</th>\n",
              "      <th>reviewTime</th>\n",
              "      <th>review_text</th>\n",
              "      <th>positive_feedback</th>\n",
              "      <th>negative_feedback</th>\n",
              "      <th>rating_class</th>\n",
              "      <th>helpful_ratio</th>\n",
              "    </tr>\n",
              "  </thead>\n",
              "  <tbody>\n",
              "    <tr>\n",
              "      <th>0</th>\n",
              "      <td>ACNGUPJ3A3TM9</td>\n",
              "      <td>0000013714</td>\n",
              "      <td>GCM</td>\n",
              "      <td>4</td>\n",
              "      <td>1386028800</td>\n",
              "      <td>12 3, 2013</td>\n",
              "      <td>Nice Hymnal We use this type of hymnal at chur...</td>\n",
              "      <td>0</td>\n",
              "      <td>0</td>\n",
              "      <td>good</td>\n",
              "      <td>NaN</td>\n",
              "    </tr>\n",
              "    <tr>\n",
              "      <th>1</th>\n",
              "      <td>A2SUAM1J3GNN3B</td>\n",
              "      <td>0000013714</td>\n",
              "      <td>J. McDonald</td>\n",
              "      <td>5</td>\n",
              "      <td>1252800000</td>\n",
              "      <td>09 13, 2009</td>\n",
              "      <td>Heavenly Highway Hymns I bought this for my hu...</td>\n",
              "      <td>2</td>\n",
              "      <td>1</td>\n",
              "      <td>good</td>\n",
              "      <td>0.666667</td>\n",
              "    </tr>\n",
              "    <tr>\n",
              "      <th>2</th>\n",
              "      <td>APOZ15IEYQRRR</td>\n",
              "      <td>0000013714</td>\n",
              "      <td>maewest64</td>\n",
              "      <td>5</td>\n",
              "      <td>1362787200</td>\n",
              "      <td>03 9, 2013</td>\n",
              "      <td>Awesome Hymn Book This is a large size hymn bo...</td>\n",
              "      <td>0</td>\n",
              "      <td>0</td>\n",
              "      <td>good</td>\n",
              "      <td>NaN</td>\n",
              "    </tr>\n",
              "    <tr>\n",
              "      <th>3</th>\n",
              "      <td>AYEDW3BFK53XK</td>\n",
              "      <td>0000013714</td>\n",
              "      <td>Missb</td>\n",
              "      <td>5</td>\n",
              "      <td>1325462400</td>\n",
              "      <td>01 2, 2012</td>\n",
              "      <td>Hand Clapping Toe Tapping Oldies We use this h...</td>\n",
              "      <td>0</td>\n",
              "      <td>0</td>\n",
              "      <td>good</td>\n",
              "      <td>NaN</td>\n",
              "    </tr>\n",
              "    <tr>\n",
              "      <th>4</th>\n",
              "      <td>A1KLCGLCXYP1U1</td>\n",
              "      <td>0000013714</td>\n",
              "      <td>Paul L \"Paul Lytle\"</td>\n",
              "      <td>3</td>\n",
              "      <td>1376092800</td>\n",
              "      <td>08 10, 2013</td>\n",
              "      <td>Misleading One review advised this book was la...</td>\n",
              "      <td>0</td>\n",
              "      <td>0</td>\n",
              "      <td>good</td>\n",
              "      <td>NaN</td>\n",
              "    </tr>\n",
              "    <tr>\n",
              "      <th>...</th>\n",
              "      <td>...</td>\n",
              "      <td>...</td>\n",
              "      <td>...</td>\n",
              "      <td>...</td>\n",
              "      <td>...</td>\n",
              "      <td>...</td>\n",
              "      <td>...</td>\n",
              "      <td>...</td>\n",
              "      <td>...</td>\n",
              "      <td>...</td>\n",
              "      <td>...</td>\n",
              "    </tr>\n",
              "    <tr>\n",
              "      <th>499995</th>\n",
              "      <td>A3AL0YEC7YZR4T</td>\n",
              "      <td>0062003933</td>\n",
              "      <td>Giddyupgirl</td>\n",
              "      <td>4</td>\n",
              "      <td>1358121600</td>\n",
              "      <td>01 14, 2013</td>\n",
              "      <td>The Vampire Diaries this book isn't the best o...</td>\n",
              "      <td>0</td>\n",
              "      <td>0</td>\n",
              "      <td>good</td>\n",
              "      <td>NaN</td>\n",
              "    </tr>\n",
              "    <tr>\n",
              "      <th>499996</th>\n",
              "      <td>A1ZT32FR0JNS2I</td>\n",
              "      <td>0062003933</td>\n",
              "      <td>Hailey Barger \"icequeen1215\"</td>\n",
              "      <td>5</td>\n",
              "      <td>1316649600</td>\n",
              "      <td>09 22, 2011</td>\n",
              "      <td>Loved it! I loved reading the back story of tw...</td>\n",
              "      <td>0</td>\n",
              "      <td>0</td>\n",
              "      <td>good</td>\n",
              "      <td>NaN</td>\n",
              "    </tr>\n",
              "    <tr>\n",
              "      <th>499997</th>\n",
              "      <td>A2LYIUSZX6Q13H</td>\n",
              "      <td>0062003933</td>\n",
              "      <td>HugeWishlist \"Natalia\"</td>\n",
              "      <td>5</td>\n",
              "      <td>1319587200</td>\n",
              "      <td>10 26, 2011</td>\n",
              "      <td>A great read for the show fans This book has b...</td>\n",
              "      <td>0</td>\n",
              "      <td>0</td>\n",
              "      <td>good</td>\n",
              "      <td>NaN</td>\n",
              "    </tr>\n",
              "    <tr>\n",
              "      <th>499998</th>\n",
              "      <td>A3RHZLVHWLM871</td>\n",
              "      <td>0062003933</td>\n",
              "      <td>Jeannie Blue</td>\n",
              "      <td>1</td>\n",
              "      <td>1293494400</td>\n",
              "      <td>12 28, 2010</td>\n",
              "      <td>A Pathetic Attempt at Keeping TVD Alive! First...</td>\n",
              "      <td>3</td>\n",
              "      <td>3</td>\n",
              "      <td>bad</td>\n",
              "      <td>0.500000</td>\n",
              "    </tr>\n",
              "    <tr>\n",
              "      <th>499999</th>\n",
              "      <td>ANDP0V72QGMNU</td>\n",
              "      <td>0062003933</td>\n",
              "      <td>Jeovany Rosado</td>\n",
              "      <td>5</td>\n",
              "      <td>1386460800</td>\n",
              "      <td>12 8, 2013</td>\n",
              "      <td>understanding stephan all vampire diaries book...</td>\n",
              "      <td>0</td>\n",
              "      <td>0</td>\n",
              "      <td>good</td>\n",
              "      <td>NaN</td>\n",
              "    </tr>\n",
              "  </tbody>\n",
              "</table>\n",
              "<p>475340 rows × 11 columns</p>\n",
              "</div>"
            ],
            "text/plain": [
              "            reviewerID        asin                  reviewerName  \\\n",
              "0        ACNGUPJ3A3TM9  0000013714                           GCM   \n",
              "1       A2SUAM1J3GNN3B  0000013714                   J. McDonald   \n",
              "2        APOZ15IEYQRRR  0000013714                     maewest64   \n",
              "3        AYEDW3BFK53XK  0000013714                         Missb   \n",
              "4       A1KLCGLCXYP1U1  0000013714           Paul L \"Paul Lytle\"   \n",
              "...                ...         ...                           ...   \n",
              "499995  A3AL0YEC7YZR4T  0062003933                   Giddyupgirl   \n",
              "499996  A1ZT32FR0JNS2I  0062003933  Hailey Barger \"icequeen1215\"   \n",
              "499997  A2LYIUSZX6Q13H  0062003933        HugeWishlist \"Natalia\"   \n",
              "499998  A3RHZLVHWLM871  0062003933                  Jeannie Blue   \n",
              "499999   ANDP0V72QGMNU  0062003933                Jeovany Rosado   \n",
              "\n",
              "        OverallRating  unixReviewTime   reviewTime  \\\n",
              "0                   4      1386028800   12 3, 2013   \n",
              "1                   5      1252800000  09 13, 2009   \n",
              "2                   5      1362787200   03 9, 2013   \n",
              "3                   5      1325462400   01 2, 2012   \n",
              "4                   3      1376092800  08 10, 2013   \n",
              "...               ...             ...          ...   \n",
              "499995              4      1358121600  01 14, 2013   \n",
              "499996              5      1316649600  09 22, 2011   \n",
              "499997              5      1319587200  10 26, 2011   \n",
              "499998              1      1293494400  12 28, 2010   \n",
              "499999              5      1386460800   12 8, 2013   \n",
              "\n",
              "                                              review_text  positive_feedback  \\\n",
              "0       Nice Hymnal We use this type of hymnal at chur...                  0   \n",
              "1       Heavenly Highway Hymns I bought this for my hu...                  2   \n",
              "2       Awesome Hymn Book This is a large size hymn bo...                  0   \n",
              "3       Hand Clapping Toe Tapping Oldies We use this h...                  0   \n",
              "4       Misleading One review advised this book was la...                  0   \n",
              "...                                                   ...                ...   \n",
              "499995  The Vampire Diaries this book isn't the best o...                  0   \n",
              "499996  Loved it! I loved reading the back story of tw...                  0   \n",
              "499997  A great read for the show fans This book has b...                  0   \n",
              "499998  A Pathetic Attempt at Keeping TVD Alive! First...                  3   \n",
              "499999  understanding stephan all vampire diaries book...                  0   \n",
              "\n",
              "        negative_feedback rating_class  helpful_ratio  \n",
              "0                       0         good            NaN  \n",
              "1                       1         good       0.666667  \n",
              "2                       0         good            NaN  \n",
              "3                       0         good            NaN  \n",
              "4                       0         good            NaN  \n",
              "...                   ...          ...            ...  \n",
              "499995                  0         good            NaN  \n",
              "499996                  0         good            NaN  \n",
              "499997                  0         good            NaN  \n",
              "499998                  3          bad       0.500000  \n",
              "499999                  0         good            NaN  \n",
              "\n",
              "[475340 rows x 11 columns]"
            ]
          },
          "execution_count": 33,
          "metadata": {},
          "output_type": "execute_result"
        }
      ],
      "source": [
        "# Apply the helpfullness ratio\n",
        "df1['helpful_ratio'] = df1.positive_feedback.div((df1.positive_feedback + df1.negative_feedback), axis=0)\n",
        "\n",
        "# Drop redundant 'help_prop' column\n",
        "df1 = df1.drop('help_prop', axis = 1)\n",
        "df1"
      ]
    },
    {
      "cell_type": "code",
      "execution_count": null,
      "metadata": {
        "id": "Y68MJMOV5wnq"
      },
      "outputs": [],
      "source": [
        "# filling helpfullness ratio NAN value with zero\n",
        "df1['helpful_ratio'].fillna(0, inplace=True)"
      ]
    },
    {
      "cell_type": "code",
      "execution_count": null,
      "metadata": {
        "id": "ryngNdtv5wns",
        "outputId": "93833d38-bd9e-4bf6-9ace-b80667c595cc"
      },
      "outputs": [
        {
          "data": {
            "text/html": [
              "<div>\n",
              "<style scoped>\n",
              "    .dataframe tbody tr th:only-of-type {\n",
              "        vertical-align: middle;\n",
              "    }\n",
              "\n",
              "    .dataframe tbody tr th {\n",
              "        vertical-align: top;\n",
              "    }\n",
              "\n",
              "    .dataframe thead th {\n",
              "        text-align: right;\n",
              "    }\n",
              "</style>\n",
              "<table border=\"1\" class=\"dataframe\">\n",
              "  <thead>\n",
              "    <tr style=\"text-align: right;\">\n",
              "      <th></th>\n",
              "      <th>reviewerID</th>\n",
              "      <th>asin</th>\n",
              "      <th>reviewerName</th>\n",
              "      <th>OverallRating</th>\n",
              "      <th>unixReviewTime</th>\n",
              "      <th>reviewTime</th>\n",
              "      <th>review_text</th>\n",
              "      <th>positive_feedback</th>\n",
              "      <th>negative_feedback</th>\n",
              "      <th>rating_class</th>\n",
              "      <th>helpful_ratio</th>\n",
              "    </tr>\n",
              "  </thead>\n",
              "  <tbody>\n",
              "    <tr>\n",
              "      <th>0</th>\n",
              "      <td>ACNGUPJ3A3TM9</td>\n",
              "      <td>0000013714</td>\n",
              "      <td>GCM</td>\n",
              "      <td>4</td>\n",
              "      <td>1386028800</td>\n",
              "      <td>12 3, 2013</td>\n",
              "      <td>Nice Hymnal We use this type of hymnal at chur...</td>\n",
              "      <td>0</td>\n",
              "      <td>0</td>\n",
              "      <td>good</td>\n",
              "      <td>0.000000</td>\n",
              "    </tr>\n",
              "    <tr>\n",
              "      <th>1</th>\n",
              "      <td>A2SUAM1J3GNN3B</td>\n",
              "      <td>0000013714</td>\n",
              "      <td>J. McDonald</td>\n",
              "      <td>5</td>\n",
              "      <td>1252800000</td>\n",
              "      <td>09 13, 2009</td>\n",
              "      <td>Heavenly Highway Hymns I bought this for my hu...</td>\n",
              "      <td>2</td>\n",
              "      <td>1</td>\n",
              "      <td>good</td>\n",
              "      <td>0.666667</td>\n",
              "    </tr>\n",
              "    <tr>\n",
              "      <th>2</th>\n",
              "      <td>APOZ15IEYQRRR</td>\n",
              "      <td>0000013714</td>\n",
              "      <td>maewest64</td>\n",
              "      <td>5</td>\n",
              "      <td>1362787200</td>\n",
              "      <td>03 9, 2013</td>\n",
              "      <td>Awesome Hymn Book This is a large size hymn bo...</td>\n",
              "      <td>0</td>\n",
              "      <td>0</td>\n",
              "      <td>good</td>\n",
              "      <td>0.000000</td>\n",
              "    </tr>\n",
              "    <tr>\n",
              "      <th>3</th>\n",
              "      <td>AYEDW3BFK53XK</td>\n",
              "      <td>0000013714</td>\n",
              "      <td>Missb</td>\n",
              "      <td>5</td>\n",
              "      <td>1325462400</td>\n",
              "      <td>01 2, 2012</td>\n",
              "      <td>Hand Clapping Toe Tapping Oldies We use this h...</td>\n",
              "      <td>0</td>\n",
              "      <td>0</td>\n",
              "      <td>good</td>\n",
              "      <td>0.000000</td>\n",
              "    </tr>\n",
              "    <tr>\n",
              "      <th>4</th>\n",
              "      <td>A1KLCGLCXYP1U1</td>\n",
              "      <td>0000013714</td>\n",
              "      <td>Paul L \"Paul Lytle\"</td>\n",
              "      <td>3</td>\n",
              "      <td>1376092800</td>\n",
              "      <td>08 10, 2013</td>\n",
              "      <td>Misleading One review advised this book was la...</td>\n",
              "      <td>0</td>\n",
              "      <td>0</td>\n",
              "      <td>good</td>\n",
              "      <td>0.000000</td>\n",
              "    </tr>\n",
              "  </tbody>\n",
              "</table>\n",
              "</div>"
            ],
            "text/plain": [
              "       reviewerID        asin         reviewerName  OverallRating  \\\n",
              "0   ACNGUPJ3A3TM9  0000013714                  GCM              4   \n",
              "1  A2SUAM1J3GNN3B  0000013714          J. McDonald              5   \n",
              "2   APOZ15IEYQRRR  0000013714            maewest64              5   \n",
              "3   AYEDW3BFK53XK  0000013714                Missb              5   \n",
              "4  A1KLCGLCXYP1U1  0000013714  Paul L \"Paul Lytle\"              3   \n",
              "\n",
              "   unixReviewTime   reviewTime  \\\n",
              "0      1386028800   12 3, 2013   \n",
              "1      1252800000  09 13, 2009   \n",
              "2      1362787200   03 9, 2013   \n",
              "3      1325462400   01 2, 2012   \n",
              "4      1376092800  08 10, 2013   \n",
              "\n",
              "                                         review_text  positive_feedback  \\\n",
              "0  Nice Hymnal We use this type of hymnal at chur...                  0   \n",
              "1  Heavenly Highway Hymns I bought this for my hu...                  2   \n",
              "2  Awesome Hymn Book This is a large size hymn bo...                  0   \n",
              "3  Hand Clapping Toe Tapping Oldies We use this h...                  0   \n",
              "4  Misleading One review advised this book was la...                  0   \n",
              "\n",
              "   negative_feedback rating_class  helpful_ratio  \n",
              "0                  0         good       0.000000  \n",
              "1                  1         good       0.666667  \n",
              "2                  0         good       0.000000  \n",
              "3                  0         good       0.000000  \n",
              "4                  0         good       0.000000  "
            ]
          },
          "execution_count": 36,
          "metadata": {},
          "output_type": "execute_result"
        }
      ],
      "source": [
        "df1.head()"
      ]
    },
    {
      "cell_type": "code",
      "execution_count": null,
      "metadata": {
        "id": "pBpW5t0H5wnu",
        "outputId": "f1f83736-6e44-4a2e-ae55-c38c72fd4026"
      },
      "outputs": [
        {
          "data": {
            "text/html": [
              "<div>\n",
              "<style scoped>\n",
              "    .dataframe tbody tr th:only-of-type {\n",
              "        vertical-align: middle;\n",
              "    }\n",
              "\n",
              "    .dataframe tbody tr th {\n",
              "        vertical-align: top;\n",
              "    }\n",
              "\n",
              "    .dataframe thead th {\n",
              "        text-align: right;\n",
              "    }\n",
              "</style>\n",
              "<table border=\"1\" class=\"dataframe\">\n",
              "  <thead>\n",
              "    <tr style=\"text-align: right;\">\n",
              "      <th></th>\n",
              "      <th>reviewerID</th>\n",
              "      <th>asin</th>\n",
              "      <th>reviewerName</th>\n",
              "      <th>OverallRating</th>\n",
              "      <th>unixReviewTime</th>\n",
              "      <th>reviewTime</th>\n",
              "      <th>review_text</th>\n",
              "      <th>positive_feedback</th>\n",
              "      <th>negative_feedback</th>\n",
              "      <th>rating_class</th>\n",
              "      <th>helpful_ratio</th>\n",
              "    </tr>\n",
              "  </thead>\n",
              "  <tbody>\n",
              "    <tr>\n",
              "      <th>859</th>\n",
              "      <td>A1E2JMP7OR2CH1</td>\n",
              "      <td>0002007770</td>\n",
              "      <td>Amazon Customer</td>\n",
              "      <td>5</td>\n",
              "      <td>1306022400</td>\n",
              "      <td>05 22, 2011</td>\n",
              "      <td>Fantastic, has a little bit of everything This...</td>\n",
              "      <td>0</td>\n",
              "      <td>0</td>\n",
              "      <td>good</td>\n",
              "      <td>0.000000</td>\n",
              "    </tr>\n",
              "    <tr>\n",
              "      <th>861</th>\n",
              "      <td>AETOZSMHO7H5D</td>\n",
              "      <td>0002007770</td>\n",
              "      <td>Amazon Customer</td>\n",
              "      <td>4</td>\n",
              "      <td>1304121600</td>\n",
              "      <td>04 30, 2011</td>\n",
              "      <td>Liked the audio-book version This story helped...</td>\n",
              "      <td>0</td>\n",
              "      <td>0</td>\n",
              "      <td>good</td>\n",
              "      <td>0.000000</td>\n",
              "    </tr>\n",
              "    <tr>\n",
              "      <th>865</th>\n",
              "      <td>A331LHNKUWL3B</td>\n",
              "      <td>0002007770</td>\n",
              "      <td>Amazon Customer</td>\n",
              "      <td>5</td>\n",
              "      <td>1306022400</td>\n",
              "      <td>05 22, 2011</td>\n",
              "      <td>Run Away to the Circus of Post Depression Amer...</td>\n",
              "      <td>0</td>\n",
              "      <td>0</td>\n",
              "      <td>good</td>\n",
              "      <td>0.000000</td>\n",
              "    </tr>\n",
              "    <tr>\n",
              "      <th>881</th>\n",
              "      <td>A2942MV1XI338B</td>\n",
              "      <td>0002007770</td>\n",
              "      <td>Amazon Customer</td>\n",
              "      <td>4</td>\n",
              "      <td>1304121600</td>\n",
              "      <td>04 30, 2011</td>\n",
              "      <td>Great Story - Not for Animal Lovers Having rea...</td>\n",
              "      <td>1</td>\n",
              "      <td>0</td>\n",
              "      <td>good</td>\n",
              "      <td>1.000000</td>\n",
              "    </tr>\n",
              "    <tr>\n",
              "      <th>885</th>\n",
              "      <td>A2HFW5JXDVCNG3</td>\n",
              "      <td>0002007770</td>\n",
              "      <td>Amazon Customer</td>\n",
              "      <td>4</td>\n",
              "      <td>1361836800</td>\n",
              "      <td>02 26, 2013</td>\n",
              "      <td>A good read I found this book easy to read and...</td>\n",
              "      <td>1</td>\n",
              "      <td>0</td>\n",
              "      <td>good</td>\n",
              "      <td>1.000000</td>\n",
              "    </tr>\n",
              "    <tr>\n",
              "      <th>...</th>\n",
              "      <td>...</td>\n",
              "      <td>...</td>\n",
              "      <td>...</td>\n",
              "      <td>...</td>\n",
              "      <td>...</td>\n",
              "      <td>...</td>\n",
              "      <td>...</td>\n",
              "      <td>...</td>\n",
              "      <td>...</td>\n",
              "      <td>...</td>\n",
              "      <td>...</td>\n",
              "    </tr>\n",
              "    <tr>\n",
              "      <th>492998</th>\n",
              "      <td>A2GK67Q4RFWJEB</td>\n",
              "      <td>0061996203</td>\n",
              "      <td>Amazon Customer</td>\n",
              "      <td>3</td>\n",
              "      <td>1359676800</td>\n",
              "      <td>02 1, 2013</td>\n",
              "      <td>Disappointed!!! I was so very disappointed in ...</td>\n",
              "      <td>1</td>\n",
              "      <td>2</td>\n",
              "      <td>good</td>\n",
              "      <td>0.333333</td>\n",
              "    </tr>\n",
              "    <tr>\n",
              "      <th>493701</th>\n",
              "      <td>A38LSNKIMTTVQI</td>\n",
              "      <td>0061997102</td>\n",
              "      <td>Amazon Customer</td>\n",
              "      <td>5</td>\n",
              "      <td>1390348800</td>\n",
              "      <td>01 22, 2014</td>\n",
              "      <td>Just read it. Before I bought this, I noticed ...</td>\n",
              "      <td>0</td>\n",
              "      <td>0</td>\n",
              "      <td>good</td>\n",
              "      <td>0.000000</td>\n",
              "    </tr>\n",
              "    <tr>\n",
              "      <th>493708</th>\n",
              "      <td>A34UJ751QV38Y2</td>\n",
              "      <td>0061997102</td>\n",
              "      <td>Amazon Customer</td>\n",
              "      <td>5</td>\n",
              "      <td>1391472000</td>\n",
              "      <td>02 4, 2014</td>\n",
              "      <td>Wonderful!!!! This book made me laugh and cry....</td>\n",
              "      <td>0</td>\n",
              "      <td>0</td>\n",
              "      <td>good</td>\n",
              "      <td>0.000000</td>\n",
              "    </tr>\n",
              "    <tr>\n",
              "      <th>493710</th>\n",
              "      <td>AC8UY7L0IZVMA</td>\n",
              "      <td>0061997102</td>\n",
              "      <td>Amazon Customer</td>\n",
              "      <td>5</td>\n",
              "      <td>1390348800</td>\n",
              "      <td>01 22, 2014</td>\n",
              "      <td>Heart full of love This was a lovely, unexpect...</td>\n",
              "      <td>0</td>\n",
              "      <td>0</td>\n",
              "      <td>good</td>\n",
              "      <td>0.000000</td>\n",
              "    </tr>\n",
              "    <tr>\n",
              "      <th>493712</th>\n",
              "      <td>A26NHLVRUV8GWZ</td>\n",
              "      <td>0061997102</td>\n",
              "      <td>Amazon Customer</td>\n",
              "      <td>5</td>\n",
              "      <td>1391472000</td>\n",
              "      <td>02 4, 2014</td>\n",
              "      <td>Atticus Rocks!!! Wonderful, fully enjoyable an...</td>\n",
              "      <td>0</td>\n",
              "      <td>0</td>\n",
              "      <td>good</td>\n",
              "      <td>0.000000</td>\n",
              "    </tr>\n",
              "  </tbody>\n",
              "</table>\n",
              "<p>573 rows × 11 columns</p>\n",
              "</div>"
            ],
            "text/plain": [
              "            reviewerID        asin     reviewerName  OverallRating  \\\n",
              "859     A1E2JMP7OR2CH1  0002007770  Amazon Customer              5   \n",
              "861      AETOZSMHO7H5D  0002007770  Amazon Customer              4   \n",
              "865      A331LHNKUWL3B  0002007770  Amazon Customer              5   \n",
              "881     A2942MV1XI338B  0002007770  Amazon Customer              4   \n",
              "885     A2HFW5JXDVCNG3  0002007770  Amazon Customer              4   \n",
              "...                ...         ...              ...            ...   \n",
              "492998  A2GK67Q4RFWJEB  0061996203  Amazon Customer              3   \n",
              "493701  A38LSNKIMTTVQI  0061997102  Amazon Customer              5   \n",
              "493708  A34UJ751QV38Y2  0061997102  Amazon Customer              5   \n",
              "493710   AC8UY7L0IZVMA  0061997102  Amazon Customer              5   \n",
              "493712  A26NHLVRUV8GWZ  0061997102  Amazon Customer              5   \n",
              "\n",
              "        unixReviewTime   reviewTime  \\\n",
              "859         1306022400  05 22, 2011   \n",
              "861         1304121600  04 30, 2011   \n",
              "865         1306022400  05 22, 2011   \n",
              "881         1304121600  04 30, 2011   \n",
              "885         1361836800  02 26, 2013   \n",
              "...                ...          ...   \n",
              "492998      1359676800   02 1, 2013   \n",
              "493701      1390348800  01 22, 2014   \n",
              "493708      1391472000   02 4, 2014   \n",
              "493710      1390348800  01 22, 2014   \n",
              "493712      1391472000   02 4, 2014   \n",
              "\n",
              "                                              review_text  positive_feedback  \\\n",
              "859     Fantastic, has a little bit of everything This...                  0   \n",
              "861     Liked the audio-book version This story helped...                  0   \n",
              "865     Run Away to the Circus of Post Depression Amer...                  0   \n",
              "881     Great Story - Not for Animal Lovers Having rea...                  1   \n",
              "885     A good read I found this book easy to read and...                  1   \n",
              "...                                                   ...                ...   \n",
              "492998  Disappointed!!! I was so very disappointed in ...                  1   \n",
              "493701  Just read it. Before I bought this, I noticed ...                  0   \n",
              "493708  Wonderful!!!! This book made me laugh and cry....                  0   \n",
              "493710  Heart full of love This was a lovely, unexpect...                  0   \n",
              "493712  Atticus Rocks!!! Wonderful, fully enjoyable an...                  0   \n",
              "\n",
              "        negative_feedback rating_class  helpful_ratio  \n",
              "859                     0         good       0.000000  \n",
              "861                     0         good       0.000000  \n",
              "865                     0         good       0.000000  \n",
              "881                     0         good       1.000000  \n",
              "885                     0         good       1.000000  \n",
              "...                   ...          ...            ...  \n",
              "492998                  2         good       0.333333  \n",
              "493701                  0         good       0.000000  \n",
              "493708                  0         good       0.000000  \n",
              "493710                  0         good       0.000000  \n",
              "493712                  0         good       0.000000  \n",
              "\n",
              "[573 rows x 11 columns]"
            ]
          },
          "execution_count": 37,
          "metadata": {},
          "output_type": "execute_result"
        }
      ],
      "source": [
        "# checking duplicates based on 'reviewName', 'unixReviewTime', and 'asin', columns\n",
        "df1[df1.duplicated(['reviewerName','unixReviewTime','asin'], keep= False)]"
      ]
    },
    {
      "cell_type": "code",
      "execution_count": null,
      "metadata": {
        "id": "-3V33CKs5wnv",
        "outputId": "e17d519b-784e-4828-a618-aeeba2de9f88"
      },
      "outputs": [
        {
          "data": {
            "text/plain": [
              "(475340, 11)"
            ]
          },
          "execution_count": 38,
          "metadata": {},
          "output_type": "execute_result"
        }
      ],
      "source": [
        "df1.shape"
      ]
    },
    {
      "cell_type": "code",
      "execution_count": null,
      "metadata": {
        "id": "qkWSLTUb5wnx"
      },
      "outputs": [],
      "source": [
        "# Drop duplicates in 'reviewName' and 'unixReviewTime' columns\n",
        "df1 = df1.drop_duplicates(['asin','reviewerName', 'unixReviewTime'], keep = 'first')"
      ]
    },
    {
      "cell_type": "code",
      "execution_count": null,
      "metadata": {
        "id": "7BEf2Y4U5wnz",
        "outputId": "b18082f7-d0aa-4e07-be01-80e32382f24e"
      },
      "outputs": [
        {
          "data": {
            "text/plain": [
              "(475008, 11)"
            ]
          },
          "execution_count": 40,
          "metadata": {},
          "output_type": "execute_result"
        }
      ],
      "source": [
        "df1.shape"
      ]
    },
    {
      "cell_type": "code",
      "execution_count": null,
      "metadata": {
        "id": "F0Bo9GSE5wn1",
        "outputId": "e18c67f9-a03e-4169-ab5e-7298ff58d28a"
      },
      "outputs": [
        {
          "data": {
            "text/html": [
              "<div>\n",
              "<style scoped>\n",
              "    .dataframe tbody tr th:only-of-type {\n",
              "        vertical-align: middle;\n",
              "    }\n",
              "\n",
              "    .dataframe tbody tr th {\n",
              "        vertical-align: top;\n",
              "    }\n",
              "\n",
              "    .dataframe thead th {\n",
              "        text-align: right;\n",
              "    }\n",
              "</style>\n",
              "<table border=\"1\" class=\"dataframe\">\n",
              "  <thead>\n",
              "    <tr style=\"text-align: right;\">\n",
              "      <th></th>\n",
              "      <th>reviewerID</th>\n",
              "      <th>asin</th>\n",
              "      <th>reviewerName</th>\n",
              "      <th>OverallRating</th>\n",
              "      <th>unixReviewTime</th>\n",
              "      <th>review_text</th>\n",
              "      <th>positive_feedback</th>\n",
              "      <th>negative_feedback</th>\n",
              "      <th>rating_class</th>\n",
              "      <th>helpful_ratio</th>\n",
              "      <th>time</th>\n",
              "    </tr>\n",
              "  </thead>\n",
              "  <tbody>\n",
              "    <tr>\n",
              "      <th>0</th>\n",
              "      <td>ACNGUPJ3A3TM9</td>\n",
              "      <td>0000013714</td>\n",
              "      <td>GCM</td>\n",
              "      <td>4</td>\n",
              "      <td>1386028800</td>\n",
              "      <td>Nice Hymnal We use this type of hymnal at chur...</td>\n",
              "      <td>0</td>\n",
              "      <td>0</td>\n",
              "      <td>good</td>\n",
              "      <td>0.000000</td>\n",
              "      <td>2013-12-03</td>\n",
              "    </tr>\n",
              "    <tr>\n",
              "      <th>1</th>\n",
              "      <td>A2SUAM1J3GNN3B</td>\n",
              "      <td>0000013714</td>\n",
              "      <td>J. McDonald</td>\n",
              "      <td>5</td>\n",
              "      <td>1252800000</td>\n",
              "      <td>Heavenly Highway Hymns I bought this for my hu...</td>\n",
              "      <td>2</td>\n",
              "      <td>1</td>\n",
              "      <td>good</td>\n",
              "      <td>0.666667</td>\n",
              "      <td>2009-09-13</td>\n",
              "    </tr>\n",
              "    <tr>\n",
              "      <th>2</th>\n",
              "      <td>APOZ15IEYQRRR</td>\n",
              "      <td>0000013714</td>\n",
              "      <td>maewest64</td>\n",
              "      <td>5</td>\n",
              "      <td>1362787200</td>\n",
              "      <td>Awesome Hymn Book This is a large size hymn bo...</td>\n",
              "      <td>0</td>\n",
              "      <td>0</td>\n",
              "      <td>good</td>\n",
              "      <td>0.000000</td>\n",
              "      <td>2013-03-09</td>\n",
              "    </tr>\n",
              "    <tr>\n",
              "      <th>3</th>\n",
              "      <td>AYEDW3BFK53XK</td>\n",
              "      <td>0000013714</td>\n",
              "      <td>Missb</td>\n",
              "      <td>5</td>\n",
              "      <td>1325462400</td>\n",
              "      <td>Hand Clapping Toe Tapping Oldies We use this h...</td>\n",
              "      <td>0</td>\n",
              "      <td>0</td>\n",
              "      <td>good</td>\n",
              "      <td>0.000000</td>\n",
              "      <td>2012-01-02</td>\n",
              "    </tr>\n",
              "    <tr>\n",
              "      <th>4</th>\n",
              "      <td>A1KLCGLCXYP1U1</td>\n",
              "      <td>0000013714</td>\n",
              "      <td>Paul L \"Paul Lytle\"</td>\n",
              "      <td>3</td>\n",
              "      <td>1376092800</td>\n",
              "      <td>Misleading One review advised this book was la...</td>\n",
              "      <td>0</td>\n",
              "      <td>0</td>\n",
              "      <td>good</td>\n",
              "      <td>0.000000</td>\n",
              "      <td>2013-08-10</td>\n",
              "    </tr>\n",
              "  </tbody>\n",
              "</table>\n",
              "</div>"
            ],
            "text/plain": [
              "       reviewerID        asin         reviewerName  OverallRating  \\\n",
              "0   ACNGUPJ3A3TM9  0000013714                  GCM              4   \n",
              "1  A2SUAM1J3GNN3B  0000013714          J. McDonald              5   \n",
              "2   APOZ15IEYQRRR  0000013714            maewest64              5   \n",
              "3   AYEDW3BFK53XK  0000013714                Missb              5   \n",
              "4  A1KLCGLCXYP1U1  0000013714  Paul L \"Paul Lytle\"              3   \n",
              "\n",
              "   unixReviewTime                                        review_text  \\\n",
              "0      1386028800  Nice Hymnal We use this type of hymnal at chur...   \n",
              "1      1252800000  Heavenly Highway Hymns I bought this for my hu...   \n",
              "2      1362787200  Awesome Hymn Book This is a large size hymn bo...   \n",
              "3      1325462400  Hand Clapping Toe Tapping Oldies We use this h...   \n",
              "4      1376092800  Misleading One review advised this book was la...   \n",
              "\n",
              "   positive_feedback  negative_feedback rating_class  helpful_ratio       time  \n",
              "0                  0                  0         good       0.000000 2013-12-03  \n",
              "1                  2                  1         good       0.666667 2009-09-13  \n",
              "2                  0                  0         good       0.000000 2013-03-09  \n",
              "3                  0                  0         good       0.000000 2012-01-02  \n",
              "4                  0                  0         good       0.000000 2013-08-10  "
            ]
          },
          "execution_count": 41,
          "metadata": {},
          "output_type": "execute_result"
        }
      ],
      "source": [
        "# Convert time object to datetime and create a new column named 'time'\n",
        "df1['time'] = df1.reviewTime.str.replace(',', \"\")\n",
        "df1['time'] = pd.to_datetime(df1['time'], format = '%m %d %Y')\n",
        "\n",
        "# Drop redundant 'reviewTime' column\n",
        "df1 = df1.drop('reviewTime', axis = 1)\n",
        "df1.head()"
      ]
    },
    {
      "cell_type": "code",
      "execution_count": null,
      "metadata": {
        "id": "RnYXFEXd5wn2",
        "outputId": "e890bb2c-6cbe-497a-9791-9abb08f445aa"
      },
      "outputs": [
        {
          "data": {
            "text/plain": [
              "Index(['reviewerID', 'asin', 'reviewerName', 'OverallRating', 'unixReviewTime',\n",
              "       'review_text', 'positive_feedback', 'negative_feedback', 'rating_class',\n",
              "       'helpful_ratio', 'time'],\n",
              "      dtype='object')"
            ]
          },
          "execution_count": 44,
          "metadata": {},
          "output_type": "execute_result"
        }
      ],
      "source": [
        "df1.columns"
      ]
    },
    {
      "cell_type": "code",
      "execution_count": null,
      "metadata": {
        "id": "24LaI34P5wn4",
        "outputId": "80242c85-6656-44a9-d7d9-ea9112b09f21"
      },
      "outputs": [
        {
          "data": {
            "text/html": [
              "<div>\n",
              "<style scoped>\n",
              "    .dataframe tbody tr th:only-of-type {\n",
              "        vertical-align: middle;\n",
              "    }\n",
              "\n",
              "    .dataframe tbody tr th {\n",
              "        vertical-align: top;\n",
              "    }\n",
              "\n",
              "    .dataframe thead th {\n",
              "        text-align: right;\n",
              "    }\n",
              "</style>\n",
              "<table border=\"1\" class=\"dataframe\">\n",
              "  <thead>\n",
              "    <tr style=\"text-align: right;\">\n",
              "      <th></th>\n",
              "      <th>reviewer_id</th>\n",
              "      <th>asin</th>\n",
              "      <th>reviewerName</th>\n",
              "      <th>overall_rating</th>\n",
              "      <th>unix_review_time</th>\n",
              "      <th>review_text</th>\n",
              "      <th>positive_feedback</th>\n",
              "      <th>negative_feedback</th>\n",
              "      <th>rating_class</th>\n",
              "      <th>helpful_ratio</th>\n",
              "      <th>time</th>\n",
              "    </tr>\n",
              "  </thead>\n",
              "  <tbody>\n",
              "    <tr>\n",
              "      <th>0</th>\n",
              "      <td>ACNGUPJ3A3TM9</td>\n",
              "      <td>0000013714</td>\n",
              "      <td>GCM</td>\n",
              "      <td>4</td>\n",
              "      <td>1386028800</td>\n",
              "      <td>Nice Hymnal We use this type of hymnal at chur...</td>\n",
              "      <td>0</td>\n",
              "      <td>0</td>\n",
              "      <td>good</td>\n",
              "      <td>0.000000</td>\n",
              "      <td>2013-12-03</td>\n",
              "    </tr>\n",
              "    <tr>\n",
              "      <th>1</th>\n",
              "      <td>A2SUAM1J3GNN3B</td>\n",
              "      <td>0000013714</td>\n",
              "      <td>J. McDonald</td>\n",
              "      <td>5</td>\n",
              "      <td>1252800000</td>\n",
              "      <td>Heavenly Highway Hymns I bought this for my hu...</td>\n",
              "      <td>2</td>\n",
              "      <td>1</td>\n",
              "      <td>good</td>\n",
              "      <td>0.666667</td>\n",
              "      <td>2009-09-13</td>\n",
              "    </tr>\n",
              "    <tr>\n",
              "      <th>2</th>\n",
              "      <td>APOZ15IEYQRRR</td>\n",
              "      <td>0000013714</td>\n",
              "      <td>maewest64</td>\n",
              "      <td>5</td>\n",
              "      <td>1362787200</td>\n",
              "      <td>Awesome Hymn Book This is a large size hymn bo...</td>\n",
              "      <td>0</td>\n",
              "      <td>0</td>\n",
              "      <td>good</td>\n",
              "      <td>0.000000</td>\n",
              "      <td>2013-03-09</td>\n",
              "    </tr>\n",
              "    <tr>\n",
              "      <th>3</th>\n",
              "      <td>AYEDW3BFK53XK</td>\n",
              "      <td>0000013714</td>\n",
              "      <td>Missb</td>\n",
              "      <td>5</td>\n",
              "      <td>1325462400</td>\n",
              "      <td>Hand Clapping Toe Tapping Oldies We use this h...</td>\n",
              "      <td>0</td>\n",
              "      <td>0</td>\n",
              "      <td>good</td>\n",
              "      <td>0.000000</td>\n",
              "      <td>2012-01-02</td>\n",
              "    </tr>\n",
              "    <tr>\n",
              "      <th>4</th>\n",
              "      <td>A1KLCGLCXYP1U1</td>\n",
              "      <td>0000013714</td>\n",
              "      <td>Paul L \"Paul Lytle\"</td>\n",
              "      <td>3</td>\n",
              "      <td>1376092800</td>\n",
              "      <td>Misleading One review advised this book was la...</td>\n",
              "      <td>0</td>\n",
              "      <td>0</td>\n",
              "      <td>good</td>\n",
              "      <td>0.000000</td>\n",
              "      <td>2013-08-10</td>\n",
              "    </tr>\n",
              "  </tbody>\n",
              "</table>\n",
              "</div>"
            ],
            "text/plain": [
              "      reviewer_id        asin         reviewerName  overall_rating  \\\n",
              "0   ACNGUPJ3A3TM9  0000013714                  GCM               4   \n",
              "1  A2SUAM1J3GNN3B  0000013714          J. McDonald               5   \n",
              "2   APOZ15IEYQRRR  0000013714            maewest64               5   \n",
              "3   AYEDW3BFK53XK  0000013714                Missb               5   \n",
              "4  A1KLCGLCXYP1U1  0000013714  Paul L \"Paul Lytle\"               3   \n",
              "\n",
              "   unix_review_time                                        review_text  \\\n",
              "0        1386028800  Nice Hymnal We use this type of hymnal at chur...   \n",
              "1        1252800000  Heavenly Highway Hymns I bought this for my hu...   \n",
              "2        1362787200  Awesome Hymn Book This is a large size hymn bo...   \n",
              "3        1325462400  Hand Clapping Toe Tapping Oldies We use this h...   \n",
              "4        1376092800  Misleading One review advised this book was la...   \n",
              "\n",
              "   positive_feedback  negative_feedback rating_class  helpful_ratio       time  \n",
              "0                  0                  0         good       0.000000 2013-12-03  \n",
              "1                  2                  1         good       0.666667 2009-09-13  \n",
              "2                  0                  0         good       0.000000 2013-03-09  \n",
              "3                  0                  0         good       0.000000 2012-01-02  \n",
              "4                  0                  0         good       0.000000 2013-08-10  "
            ]
          },
          "execution_count": 45,
          "metadata": {},
          "output_type": "execute_result"
        }
      ],
      "source": [
        "# Rename the columns\n",
        "df1.columns = ['reviewer_id', 'asin', 'reviewerName', 'overall_rating', 'unix_review_time', 'review_text','positive_feedback','negative_feedback','rating_class','helpful_ratio','time']\n",
        "\n",
        "# Sample observation\n",
        "df1.head()"
      ]
    },
    {
      "cell_type": "code",
      "execution_count": null,
      "metadata": {
        "id": "0fThlAS25wn6",
        "outputId": "576d9f9a-18ce-4193-9b07-ecd12b28bac6"
      },
      "outputs": [
        {
          "name": "stdout",
          "output_type": "stream",
          "text": [
            "================================================\n",
            "Number of reviews:  475008\n",
            "\n",
            "Number of unique reviewers:  270320\n",
            "Prop of unique reviewers:  0.569\n",
            "\n",
            "Number of unique reviews:  270320\n",
            "Prop of unique reviews:  0.569\n",
            "\n",
            "Average rating score:  4.19\n",
            "Average helpfull ratio score:  0.382\n",
            "================================================\n"
          ]
        }
      ],
      "source": [
        "## DESCRIPTIVE STATISTICS\n",
        "print (\"================================================\")\n",
        "\n",
        "### Total reviews\n",
        "total = len(df1)\n",
        "print (\"Number of reviews: \",total)\n",
        "print ()\n",
        "\n",
        "### How many unique reviewers?\n",
        "print (\"Number of unique reviewers: \",len(df1.reviewer_id.unique()))\n",
        "reviewer_prop = float(len(df1.reviewer_id.unique())/total)\n",
        "print (\"Prop of unique reviewers: \",round(reviewer_prop,3))\n",
        "print ()\n",
        "\n",
        "\n",
        "### How many unique products?\n",
        "print (\"Number of unique reviews: \", len(df1.reviewer_id.unique()))\n",
        "review_prop = float(len(df1.reviewer_id.unique())/total)\n",
        "print (\"Prop of unique reviews: \",round(review_prop,3))\n",
        "print ()\n",
        "\n",
        "### Average star score\n",
        "print (\"Average rating score: \",round(df1.overall_rating.mean(),3))\n",
        "\n",
        "### Average helpful ratio\n",
        "print (\"Average helpfull ratio score: \",round(df1.helpful_ratio.mean(),3))\n",
        "\n",
        "\n",
        "print (\"================================================\")"
      ]
    },
    {
      "cell_type": "code",
      "execution_count": null,
      "metadata": {
        "id": "RFfh73MT5wn9",
        "outputId": "7084ab1b-e762-4d21-de6d-b9f630e45267"
      },
      "outputs": [
        {
          "data": {
            "text/html": [
              "<div>\n",
              "<style scoped>\n",
              "    .dataframe tbody tr th:only-of-type {\n",
              "        vertical-align: middle;\n",
              "    }\n",
              "\n",
              "    .dataframe tbody tr th {\n",
              "        vertical-align: top;\n",
              "    }\n",
              "\n",
              "    .dataframe thead th {\n",
              "        text-align: right;\n",
              "    }\n",
              "</style>\n",
              "<table border=\"1\" class=\"dataframe\">\n",
              "  <thead>\n",
              "    <tr style=\"text-align: right;\">\n",
              "      <th></th>\n",
              "      <th>overall_rating</th>\n",
              "      <th>positive_feedback</th>\n",
              "      <th>negative_feedback</th>\n",
              "      <th>helpful_ratio</th>\n",
              "    </tr>\n",
              "  </thead>\n",
              "  <tbody>\n",
              "    <tr>\n",
              "      <th>count</th>\n",
              "      <td>475008.000000</td>\n",
              "      <td>475008.000000</td>\n",
              "      <td>475008.000000</td>\n",
              "      <td>475008.000000</td>\n",
              "    </tr>\n",
              "    <tr>\n",
              "      <th>mean</th>\n",
              "      <td>4.190237</td>\n",
              "      <td>3.613977</td>\n",
              "      <td>1.628526</td>\n",
              "      <td>0.381748</td>\n",
              "    </tr>\n",
              "    <tr>\n",
              "      <th>std</th>\n",
              "      <td>1.124089</td>\n",
              "      <td>19.984809</td>\n",
              "      <td>7.615462</td>\n",
              "      <td>0.428311</td>\n",
              "    </tr>\n",
              "    <tr>\n",
              "      <th>min</th>\n",
              "      <td>1.000000</td>\n",
              "      <td>0.000000</td>\n",
              "      <td>-1.000000</td>\n",
              "      <td>0.000000</td>\n",
              "    </tr>\n",
              "    <tr>\n",
              "      <th>25%</th>\n",
              "      <td>4.000000</td>\n",
              "      <td>0.000000</td>\n",
              "      <td>0.000000</td>\n",
              "      <td>0.000000</td>\n",
              "    </tr>\n",
              "    <tr>\n",
              "      <th>50%</th>\n",
              "      <td>5.000000</td>\n",
              "      <td>0.000000</td>\n",
              "      <td>0.000000</td>\n",
              "      <td>0.000000</td>\n",
              "    </tr>\n",
              "    <tr>\n",
              "      <th>75%</th>\n",
              "      <td>5.000000</td>\n",
              "      <td>2.000000</td>\n",
              "      <td>1.000000</td>\n",
              "      <td>0.857143</td>\n",
              "    </tr>\n",
              "    <tr>\n",
              "      <th>max</th>\n",
              "      <td>5.000000</td>\n",
              "      <td>3229.000000</td>\n",
              "      <td>1112.000000</td>\n",
              "      <td>2.000000</td>\n",
              "    </tr>\n",
              "  </tbody>\n",
              "</table>\n",
              "</div>"
            ],
            "text/plain": [
              "       overall_rating  positive_feedback  negative_feedback  helpful_ratio\n",
              "count   475008.000000      475008.000000      475008.000000  475008.000000\n",
              "mean         4.190237           3.613977           1.628526       0.381748\n",
              "std          1.124089          19.984809           7.615462       0.428311\n",
              "min          1.000000           0.000000          -1.000000       0.000000\n",
              "25%          4.000000           0.000000           0.000000       0.000000\n",
              "50%          5.000000           0.000000           0.000000       0.000000\n",
              "75%          5.000000           2.000000           1.000000       0.857143\n",
              "max          5.000000        3229.000000        1112.000000       2.000000"
            ]
          },
          "execution_count": 52,
          "metadata": {},
          "output_type": "execute_result"
        }
      ],
      "source": [
        "# Read statistic summary of numeric variables\n",
        "df1[['overall_rating','positive_feedback','negative_feedback','helpful_ratio']].describe()"
      ]
    },
    {
      "cell_type": "code",
      "execution_count": null,
      "metadata": {
        "id": "7NY-ywTy5wn_",
        "outputId": "2fa5f0dd-3310-4ec3-85e7-3556c109d3f1"
      },
      "outputs": [
        {
          "data": {
            "text/plain": [
              "Text(0, 0.5, 'Number of Reviews')"
            ]
          },
          "execution_count": 55,
          "metadata": {},
          "output_type": "execute_result"
        },
        {
          "data": {
            "image/png": "[encoded data removed]",
            "text/plain": [
              "<Figure size 864x576 with 1 Axes>"
            ]
          },
          "metadata": {
            "needs_background": "light"
          },
          "output_type": "display_data"
        }
      ],
      "source": [
        "## PLOT DISTRIBUTION OF RATING \n",
        "plt.figure(figsize=(12,8))\n",
        "df1['overall_rating'].value_counts().sort_index().plot(kind='bar')\n",
        "plt.title('Distribution of Rating')\n",
        "plt.xlabel('Rating')\n",
        "plt.ylabel('Number of Reviews')"
      ]
    },
    {
      "cell_type": "code",
      "execution_count": null,
      "metadata": {
        "id": "5Af7xPHc5woA",
        "outputId": "722adb23-492a-437c-da6a-a76e8d17d674"
      },
      "outputs": [
        {
          "data": {
            "image/png": "[encoded data removed]",
            "text/plain": [
              "<Figure size 864x576 with 1 Axes>"
            ]
          },
          "metadata": {
            "needs_background": "light"
          },
          "output_type": "display_data"
        }
      ],
      "source": [
        "## DISTRIBUTION OF HELPFULNESS\n",
        "plt.figure(figsize=(12,8))\n",
        "\n",
        "cutoff = np.array([0,0.1,0.2,0.3,0.4,0.5,0.6,0.7,0.8,0.9,1])\n",
        "\n",
        "\n",
        "Dist_help = df1.groupby([pd.cut(df1['helpful_ratio'], bins = cutoff)]).size()\n",
        "Dist_help.plot(kind='bar')\n",
        "\n",
        "plt.title(\"Distribution of Helpfulness\")\n",
        "plt.xlabel(\"Helpful proportion\")\n",
        "plt.ylabel(\"Number of Reviews\")\n",
        "plt.xticks(rotation=0)\n",
        "plt.show()"
      ]
    },
    {
      "cell_type": "code",
      "execution_count": null,
      "metadata": {
        "id": "HrnjS_iX5woD",
        "outputId": "be55693e-cab2-4e96-ab37-e93f6d298a10"
      },
      "outputs": [
        {
          "data": {
            "text/plain": [
              "overall_rating\n",
              "1     22028\n",
              "2     26236\n",
              "3     52641\n",
              "4    112542\n",
              "5    261561\n",
              "dtype: int64"
            ]
          },
          "execution_count": 58,
          "metadata": {},
          "output_type": "execute_result"
        }
      ],
      "source": [
        "## DISTRIBUTION OF RATING SCORE\n",
        "class_counts = df1.groupby('overall_rating').size()\n",
        "class_counts"
      ]
    },
    {
      "cell_type": "code",
      "execution_count": null,
      "metadata": {
        "id": "VItZS3vq5woF",
        "outputId": "b40de71e-f32c-454a-ea87-53a686899d61"
      },
      "outputs": [
        {
          "data": {
            "text/plain": [
              "good    426744\n",
              "bad      48264\n",
              "Name: rating_class, dtype: int64"
            ]
          },
          "execution_count": 59,
          "metadata": {},
          "output_type": "execute_result"
        }
      ],
      "source": [
        "# Customer totals for each rating class\n",
        "df1['rating_class'].value_counts()"
      ]
    },
    {
      "cell_type": "code",
      "execution_count": null,
      "metadata": {
        "id": "HBzZBROi5woH",
        "outputId": "83b834d2-cbe4-4275-ffe4-f23b3e6d18ba"
      },
      "outputs": [
        {
          "name": "stdout",
          "output_type": "stream",
          "text": [
            "Number of positive feedbacks: 232588\n",
            "\n",
            "Number of negative feedbacks: 166292\n"
          ]
        }
      ],
      "source": [
        "# Print the number of positive feedback\n",
        "positive = len(df1[df1['positive_feedback'] > 0])\n",
        "print('Number of positive feedbacks: {}'.format(positive))\n",
        "\n",
        "# Print the number of negative feedback\n",
        "negative = len(df1[df1['negative_feedback'] > 0])      \n",
        "print('\\nNumber of negative feedbacks: {}'.format(negative))"
      ]
    },
    {
      "cell_type": "code",
      "execution_count": null,
      "metadata": {
        "id": "5xAsEcfX5woI",
        "outputId": "9b43cc1d-8f30-4e8e-8853-20bae4a759a4"
      },
      "outputs": [
        {
          "name": "stdout",
          "output_type": "stream",
          "text": [
            "\n",
            "Number of unique customers : 270320\n",
            "\n",
            "Review per customer: 1.7572062740455756\n"
          ]
        },
        {
          "data": {
            "text/plain": [
              "\"\\nReview number per unique product \\nprint('\\nReview per product: {}'.format((len(df1)/len(df1['product_id'].unique()))))\\n\""
            ]
          },
          "execution_count": 69,
          "metadata": {},
          "output_type": "execute_result"
        }
      ],
      "source": [
        "# Statistics of non-numeric variables\n",
        "\n",
        "# Number of unique customers\n",
        "print('\\nNumber of unique customers : {}'.format(len(df1['reviewer_id'].unique())))\n",
        "      \n",
        "\"\"\"\n",
        "Number of unique products\n",
        "print('\\nNumber of unique products : {}'.format(len(df1['product_id'].unique())))\n",
        "\"\"\"\n",
        "\n",
        "      \n",
        "# Review number per unique customer\n",
        "print('\\nReview per customer: {}'.format((len(df1)/len(df1['reviewer_id'].unique()))))      \n",
        "\n",
        "\"\"\"\n",
        "Review number per unique product \n",
        "print('\\nReview per product: {}'.format((len(df1)/len(df1['product_id'].unique()))))\n",
        "\"\"\""
      ]
    },
    {
      "cell_type": "code",
      "execution_count": null,
      "metadata": {
        "id": "iQ-muHWu5woJ",
        "outputId": "89a2dea7-c6b0-4909-dd02-a81e8aad37df"
      },
      "outputs": [
        {
          "data": {
            "text/html": [
              "<div>\n",
              "<style scoped>\n",
              "    .dataframe tbody tr th:only-of-type {\n",
              "        vertical-align: middle;\n",
              "    }\n",
              "\n",
              "    .dataframe tbody tr th {\n",
              "        vertical-align: top;\n",
              "    }\n",
              "\n",
              "    .dataframe thead th {\n",
              "        text-align: right;\n",
              "    }\n",
              "</style>\n",
              "<table border=\"1\" class=\"dataframe\">\n",
              "  <thead>\n",
              "    <tr style=\"text-align: right;\">\n",
              "      <th></th>\n",
              "      <th>reviewer_id</th>\n",
              "      <th>asin</th>\n",
              "      <th>reviewerName</th>\n",
              "      <th>overall_rating</th>\n",
              "      <th>unix_review_time</th>\n",
              "      <th>review_text</th>\n",
              "      <th>positive_feedback</th>\n",
              "      <th>negative_feedback</th>\n",
              "      <th>rating_class</th>\n",
              "      <th>helpful_ratio</th>\n",
              "      <th>time</th>\n",
              "    </tr>\n",
              "  </thead>\n",
              "  <tbody>\n",
              "    <tr>\n",
              "      <th>0</th>\n",
              "      <td>ACNGUPJ3A3TM9</td>\n",
              "      <td>0000013714</td>\n",
              "      <td>GCM</td>\n",
              "      <td>4</td>\n",
              "      <td>1386028800</td>\n",
              "      <td>Nice Hymnal We use this type of hymnal at chur...</td>\n",
              "      <td>0</td>\n",
              "      <td>0</td>\n",
              "      <td>good</td>\n",
              "      <td>0.000000</td>\n",
              "      <td>2013-12-03</td>\n",
              "    </tr>\n",
              "    <tr>\n",
              "      <th>1</th>\n",
              "      <td>A2SUAM1J3GNN3B</td>\n",
              "      <td>0000013714</td>\n",
              "      <td>J. McDonald</td>\n",
              "      <td>5</td>\n",
              "      <td>1252800000</td>\n",
              "      <td>Heavenly Highway Hymns I bought this for my hu...</td>\n",
              "      <td>2</td>\n",
              "      <td>1</td>\n",
              "      <td>good</td>\n",
              "      <td>0.666667</td>\n",
              "      <td>2009-09-13</td>\n",
              "    </tr>\n",
              "    <tr>\n",
              "      <th>2</th>\n",
              "      <td>APOZ15IEYQRRR</td>\n",
              "      <td>0000013714</td>\n",
              "      <td>maewest64</td>\n",
              "      <td>5</td>\n",
              "      <td>1362787200</td>\n",
              "      <td>Awesome Hymn Book This is a large size hymn bo...</td>\n",
              "      <td>0</td>\n",
              "      <td>0</td>\n",
              "      <td>good</td>\n",
              "      <td>0.000000</td>\n",
              "      <td>2013-03-09</td>\n",
              "    </tr>\n",
              "    <tr>\n",
              "      <th>3</th>\n",
              "      <td>AYEDW3BFK53XK</td>\n",
              "      <td>0000013714</td>\n",
              "      <td>Missb</td>\n",
              "      <td>5</td>\n",
              "      <td>1325462400</td>\n",
              "      <td>Hand Clapping Toe Tapping Oldies We use this h...</td>\n",
              "      <td>0</td>\n",
              "      <td>0</td>\n",
              "      <td>good</td>\n",
              "      <td>0.000000</td>\n",
              "      <td>2012-01-02</td>\n",
              "    </tr>\n",
              "    <tr>\n",
              "      <th>4</th>\n",
              "      <td>A1KLCGLCXYP1U1</td>\n",
              "      <td>0000013714</td>\n",
              "      <td>Paul L \"Paul Lytle\"</td>\n",
              "      <td>3</td>\n",
              "      <td>1376092800</td>\n",
              "      <td>Misleading One review advised this book was la...</td>\n",
              "      <td>0</td>\n",
              "      <td>0</td>\n",
              "      <td>good</td>\n",
              "      <td>0.000000</td>\n",
              "      <td>2013-08-10</td>\n",
              "    </tr>\n",
              "  </tbody>\n",
              "</table>\n",
              "</div>"
            ],
            "text/plain": [
              "      reviewer_id        asin         reviewerName  overall_rating  \\\n",
              "0   ACNGUPJ3A3TM9  0000013714                  GCM               4   \n",
              "1  A2SUAM1J3GNN3B  0000013714          J. McDonald               5   \n",
              "2   APOZ15IEYQRRR  0000013714            maewest64               5   \n",
              "3   AYEDW3BFK53XK  0000013714                Missb               5   \n",
              "4  A1KLCGLCXYP1U1  0000013714  Paul L \"Paul Lytle\"               3   \n",
              "\n",
              "   unix_review_time                                        review_text  \\\n",
              "0        1386028800  Nice Hymnal We use this type of hymnal at chur...   \n",
              "1        1252800000  Heavenly Highway Hymns I bought this for my hu...   \n",
              "2        1362787200  Awesome Hymn Book This is a large size hymn bo...   \n",
              "3        1325462400  Hand Clapping Toe Tapping Oldies We use this h...   \n",
              "4        1376092800  Misleading One review advised this book was la...   \n",
              "\n",
              "   positive_feedback  negative_feedback rating_class  helpful_ratio       time  \n",
              "0                  0                  0         good       0.000000 2013-12-03  \n",
              "1                  2                  1         good       0.666667 2009-09-13  \n",
              "2                  0                  0         good       0.000000 2013-03-09  \n",
              "3                  0                  0         good       0.000000 2012-01-02  \n",
              "4                  0                  0         good       0.000000 2013-08-10  "
            ]
          },
          "execution_count": 76,
          "metadata": {},
          "output_type": "execute_result"
        }
      ],
      "source": [
        "df1.columns\n",
        "df1.head()"
      ]
    },
    {
      "cell_type": "markdown",
      "metadata": {
        "id": "aq593gaQ5woL"
      },
      "source": [
        "# 1. \"rating_class\" Vs. \"Review Length\" Features"
      ]
    },
    {
      "cell_type": "code",
      "execution_count": null,
      "metadata": {
        "id": "-dbM3ULi5woM",
        "outputId": "1a4dda08-568f-4344-c5d2-02f453cae406"
      },
      "outputs": [
        {
          "data": {
            "image/png": "[encoded data removed]",
            "text/plain": [
              "<Figure size 720x432 with 1 Axes>"
            ]
          },
          "metadata": {
            "needs_background": "light"
          },
          "output_type": "display_data"
        },
        {
          "data": {
            "text/plain": [
              "good    426744\n",
              "bad      48264\n",
              "Name: rating_class, dtype: int64"
            ]
          },
          "execution_count": 73,
          "metadata": {},
          "output_type": "execute_result"
        }
      ],
      "source": [
        "# Total numbers of reviews for classified as Good/Bad Rating\n",
        "plt.figure(figsize = (10,6))\n",
        "sns.countplot(df1['rating_class'])\n",
        "plt.title('Total Review Numbers for Each Rating', color='r')\n",
        "plt.xlabel('Rating')\n",
        "plt.ylabel('Number of Reviews')\n",
        "plt.show()\n",
        "\n",
        "# Customer totals for each rating class\n",
        "df1['rating_class'].value_counts()"
      ]
    },
    {
      "cell_type": "code",
      "execution_count": null,
      "metadata": {
        "id": "RbhFD5U65woO",
        "outputId": "c4cef283-c811-4149-9f87-a4060d5b532e"
      },
      "outputs": [
        {
          "data": {
            "image/png": "[encoded data removed]",
            "text/plain": [
              "<Figure size 720x432 with 1 Axes>"
            ]
          },
          "metadata": {
            "needs_background": "light"
          },
          "output_type": "display_data"
        },
        {
          "data": {
            "text/plain": [
              "5    261561\n",
              "4    112542\n",
              "3     52641\n",
              "2     26236\n",
              "1     22028\n",
              "Name: overall_rating, dtype: int64"
            ]
          },
          "execution_count": 74,
          "metadata": {},
          "output_type": "execute_result"
        }
      ],
      "source": [
        "# Total numbers of reviews for each Rating\n",
        "plt.figure(figsize = (10,6))\n",
        "sns.countplot(df1['overall_rating'])\n",
        "plt.title('Total Review Numbers for Each Rating', color='r')\n",
        "plt.xlabel('Rating')\n",
        "plt.ylabel('Number of Reviews')\n",
        "plt.show()\n",
        "\n",
        "# Customer totals for each rating class\n",
        "df1['overall_rating'].value_counts()"
      ]
    },
    {
      "cell_type": "markdown",
      "metadata": {
        "id": "HY5RsaSS5woP"
      },
      "source": [
        "Good reviews have higher length of reviews, while bad reviews have lower length of reviews."
      ]
    },
    {
      "cell_type": "code",
      "execution_count": null,
      "metadata": {
        "id": "_Yo2gGq75woQ",
        "outputId": "e4d1c0ec-edb7-4667-8ddb-4421cc5732b4"
      },
      "outputs": [
        {
          "data": {
            "text/html": [
              "<div>\n",
              "<style scoped>\n",
              "    .dataframe tbody tr th:only-of-type {\n",
              "        vertical-align: middle;\n",
              "    }\n",
              "\n",
              "    .dataframe tbody tr th {\n",
              "        vertical-align: top;\n",
              "    }\n",
              "\n",
              "    .dataframe thead th {\n",
              "        text-align: right;\n",
              "    }\n",
              "</style>\n",
              "<table border=\"1\" class=\"dataframe\">\n",
              "  <thead>\n",
              "    <tr style=\"text-align: right;\">\n",
              "      <th></th>\n",
              "      <th>reviewer_id</th>\n",
              "      <th>asin</th>\n",
              "      <th>reviewerName</th>\n",
              "      <th>overall_rating</th>\n",
              "      <th>unix_review_time</th>\n",
              "      <th>review_text</th>\n",
              "      <th>positive_feedback</th>\n",
              "      <th>negative_feedback</th>\n",
              "      <th>rating_class</th>\n",
              "      <th>helpful_ratio</th>\n",
              "      <th>time</th>\n",
              "    </tr>\n",
              "  </thead>\n",
              "  <tbody>\n",
              "    <tr>\n",
              "      <th>0</th>\n",
              "      <td>ACNGUPJ3A3TM9</td>\n",
              "      <td>0000013714</td>\n",
              "      <td>GCM</td>\n",
              "      <td>4</td>\n",
              "      <td>1386028800</td>\n",
              "      <td>Nice Hymnal We use this type of hymnal at chur...</td>\n",
              "      <td>0</td>\n",
              "      <td>0</td>\n",
              "      <td>good</td>\n",
              "      <td>0.000000</td>\n",
              "      <td>2013-12-03</td>\n",
              "    </tr>\n",
              "    <tr>\n",
              "      <th>1</th>\n",
              "      <td>A2SUAM1J3GNN3B</td>\n",
              "      <td>0000013714</td>\n",
              "      <td>J. McDonald</td>\n",
              "      <td>5</td>\n",
              "      <td>1252800000</td>\n",
              "      <td>Heavenly Highway Hymns I bought this for my hu...</td>\n",
              "      <td>2</td>\n",
              "      <td>1</td>\n",
              "      <td>good</td>\n",
              "      <td>0.666667</td>\n",
              "      <td>2009-09-13</td>\n",
              "    </tr>\n",
              "    <tr>\n",
              "      <th>2</th>\n",
              "      <td>APOZ15IEYQRRR</td>\n",
              "      <td>0000013714</td>\n",
              "      <td>maewest64</td>\n",
              "      <td>5</td>\n",
              "      <td>1362787200</td>\n",
              "      <td>Awesome Hymn Book This is a large size hymn bo...</td>\n",
              "      <td>0</td>\n",
              "      <td>0</td>\n",
              "      <td>good</td>\n",
              "      <td>0.000000</td>\n",
              "      <td>2013-03-09</td>\n",
              "    </tr>\n",
              "    <tr>\n",
              "      <th>3</th>\n",
              "      <td>AYEDW3BFK53XK</td>\n",
              "      <td>0000013714</td>\n",
              "      <td>Missb</td>\n",
              "      <td>5</td>\n",
              "      <td>1325462400</td>\n",
              "      <td>Hand Clapping Toe Tapping Oldies We use this h...</td>\n",
              "      <td>0</td>\n",
              "      <td>0</td>\n",
              "      <td>good</td>\n",
              "      <td>0.000000</td>\n",
              "      <td>2012-01-02</td>\n",
              "    </tr>\n",
              "    <tr>\n",
              "      <th>4</th>\n",
              "      <td>A1KLCGLCXYP1U1</td>\n",
              "      <td>0000013714</td>\n",
              "      <td>Paul L \"Paul Lytle\"</td>\n",
              "      <td>3</td>\n",
              "      <td>1376092800</td>\n",
              "      <td>Misleading One review advised this book was la...</td>\n",
              "      <td>0</td>\n",
              "      <td>0</td>\n",
              "      <td>good</td>\n",
              "      <td>0.000000</td>\n",
              "      <td>2013-08-10</td>\n",
              "    </tr>\n",
              "  </tbody>\n",
              "</table>\n",
              "</div>"
            ],
            "text/plain": [
              "      reviewer_id        asin         reviewerName  overall_rating  \\\n",
              "0   ACNGUPJ3A3TM9  0000013714                  GCM               4   \n",
              "1  A2SUAM1J3GNN3B  0000013714          J. McDonald               5   \n",
              "2   APOZ15IEYQRRR  0000013714            maewest64               5   \n",
              "3   AYEDW3BFK53XK  0000013714                Missb               5   \n",
              "4  A1KLCGLCXYP1U1  0000013714  Paul L \"Paul Lytle\"               3   \n",
              "\n",
              "   unix_review_time                                        review_text  \\\n",
              "0        1386028800  Nice Hymnal We use this type of hymnal at chur...   \n",
              "1        1252800000  Heavenly Highway Hymns I bought this for my hu...   \n",
              "2        1362787200  Awesome Hymn Book This is a large size hymn bo...   \n",
              "3        1325462400  Hand Clapping Toe Tapping Oldies We use this h...   \n",
              "4        1376092800  Misleading One review advised this book was la...   \n",
              "\n",
              "   positive_feedback  negative_feedback rating_class  helpful_ratio       time  \n",
              "0                  0                  0         good       0.000000 2013-12-03  \n",
              "1                  2                  1         good       0.666667 2009-09-13  \n",
              "2                  0                  0         good       0.000000 2013-03-09  \n",
              "3                  0                  0         good       0.000000 2012-01-02  \n",
              "4                  0                  0         good       0.000000 2013-08-10  "
            ]
          },
          "execution_count": 84,
          "metadata": {},
          "output_type": "execute_result"
        }
      ],
      "source": [
        "df1.columns\n",
        "df1.head()"
      ]
    },
    {
      "cell_type": "markdown",
      "metadata": {
        "id": "YT5KwYJ95woQ"
      },
      "source": [
        "# Question 4:\tWhich group of reviewers is more valuable to the business?"
      ]
    },
    {
      "cell_type": "code",
      "execution_count": null,
      "metadata": {
        "id": "zeIYjgmN5woR",
        "outputId": "47385f43-d1f2-4684-dbd1-313e23adc679"
      },
      "outputs": [
        {
          "ename": "KeyError",
          "evalue": "'overall_rating'",
          "output_type": "error",
          "traceback": [
            "\u001b[1;31m---------------------------------------------------------------------------\u001b[0m",
            "\u001b[1;31mKeyError\u001b[0m                                  Traceback (most recent call last)",
            "\u001b[1;32mc:\\Users\\USER\\OneDrive\\Desktop\\Interviews\\Zalando-Analyst CLV Measurement-wdm position\\zalando_task.f.ipynb Cell 48'\u001b[0m in \u001b[0;36m<cell line: 6>\u001b[1;34m()\u001b[0m\n\u001b[0;32m      <a href='vscode-notebook-cell:/c%3A/Users/USER/OneDrive/Desktop/Interviews/Zalando-Analyst%20CLV%20Measurement-wdm%20position/zalando_task.f.ipynb#ch0000043?line=3'>4</a>\u001b[0m \u001b[39m#plt.figure(figsize = (10,6))\u001b[39;00m\n\u001b[0;32m      <a href='vscode-notebook-cell:/c%3A/Users/USER/OneDrive/Desktop/Interviews/Zalando-Analyst%20CLV%20Measurement-wdm%20position/zalando_task.f.ipynb#ch0000043?line=4'>5</a>\u001b[0m fig, ax \u001b[39m=\u001b[39m plt\u001b[39m.\u001b[39msubplots(figsize\u001b[39m=\u001b[39m(\u001b[39m10\u001b[39m, \u001b[39m6\u001b[39m))\n\u001b[1;32m----> <a href='vscode-notebook-cell:/c%3A/Users/USER/OneDrive/Desktop/Interviews/Zalando-Analyst%20CLV%20Measurement-wdm%20position/zalando_task.f.ipynb#ch0000043?line=5'>6</a>\u001b[0m df\u001b[39m.\u001b[39;49mgroupby([\u001b[39m'\u001b[39;49m\u001b[39moverall_rating\u001b[39;49m\u001b[39m'\u001b[39;49m])[\u001b[39m'\u001b[39m\u001b[39mhelpful_ratio\u001b[39m\u001b[39m'\u001b[39m]\u001b[39m.\u001b[39mmean()\u001b[39m.\u001b[39mplot(kind\u001b[39m=\u001b[39m\u001b[39m'\u001b[39m\u001b[39mbar\u001b[39m\u001b[39m'\u001b[39m, color\u001b[39m=\u001b[39m[\u001b[39m'\u001b[39m\u001b[39mblack\u001b[39m\u001b[39m'\u001b[39m, \u001b[39m'\u001b[39m\u001b[39mred\u001b[39m\u001b[39m'\u001b[39m, \u001b[39m'\u001b[39m\u001b[39mgreen\u001b[39m\u001b[39m'\u001b[39m, \u001b[39m'\u001b[39m\u001b[39mblue\u001b[39m\u001b[39m'\u001b[39m, \u001b[39m'\u001b[39m\u001b[39mcyan\u001b[39m\u001b[39m'\u001b[39m]) \n\u001b[0;32m      <a href='vscode-notebook-cell:/c%3A/Users/USER/OneDrive/Desktop/Interviews/Zalando-Analyst%20CLV%20Measurement-wdm%20position/zalando_task.f.ipynb#ch0000043?line=6'>7</a>\u001b[0m \u001b[39m#df.plot(x, y, legend=True, color='g', ax=ax)\u001b[39;00m\n\u001b[0;32m      <a href='vscode-notebook-cell:/c%3A/Users/USER/OneDrive/Desktop/Interviews/Zalando-Analyst%20CLV%20Measurement-wdm%20position/zalando_task.f.ipynb#ch0000043?line=7'>8</a>\u001b[0m plt\u001b[39m.\u001b[39mtitle(\u001b[39m\"\u001b[39m\u001b[39mHelpfulness in rating\u001b[39m\u001b[39m\"\u001b[39m,color\u001b[39m=\u001b[39m\u001b[39m'\u001b[39m\u001b[39mr\u001b[39m\u001b[39m'\u001b[39m)\n",
            "File \u001b[1;32m~\\AppData\\Roaming\\Python\\Python310\\site-packages\\pandas\\core\\frame.py:7706\u001b[0m, in \u001b[0;36mDataFrame.groupby\u001b[1;34m(self, by, axis, level, as_index, sort, group_keys, squeeze, observed, dropna)\u001b[0m\n\u001b[0;32m   <a href='file:///c%3A/Users/USER/AppData/Roaming/Python/Python310/site-packages/pandas/core/frame.py?line=7700'>7701</a>\u001b[0m axis \u001b[39m=\u001b[39m \u001b[39mself\u001b[39m\u001b[39m.\u001b[39m_get_axis_number(axis)\n\u001b[0;32m   <a href='file:///c%3A/Users/USER/AppData/Roaming/Python/Python310/site-packages/pandas/core/frame.py?line=7702'>7703</a>\u001b[0m \u001b[39m# https://github.com/python/mypy/issues/7642\u001b[39;00m\n\u001b[0;32m   <a href='file:///c%3A/Users/USER/AppData/Roaming/Python/Python310/site-packages/pandas/core/frame.py?line=7703'>7704</a>\u001b[0m \u001b[39m# error: Argument \"squeeze\" to \"DataFrameGroupBy\" has incompatible type\u001b[39;00m\n\u001b[0;32m   <a href='file:///c%3A/Users/USER/AppData/Roaming/Python/Python310/site-packages/pandas/core/frame.py?line=7704'>7705</a>\u001b[0m \u001b[39m# \"Union[bool, NoDefault]\"; expected \"bool\"\u001b[39;00m\n\u001b[1;32m-> <a href='file:///c%3A/Users/USER/AppData/Roaming/Python/Python310/site-packages/pandas/core/frame.py?line=7705'>7706</a>\u001b[0m \u001b[39mreturn\u001b[39;00m DataFrameGroupBy(\n\u001b[0;32m   <a href='file:///c%3A/Users/USER/AppData/Roaming/Python/Python310/site-packages/pandas/core/frame.py?line=7706'>7707</a>\u001b[0m     obj\u001b[39m=\u001b[39;49m\u001b[39mself\u001b[39;49m,\n\u001b[0;32m   <a href='file:///c%3A/Users/USER/AppData/Roaming/Python/Python310/site-packages/pandas/core/frame.py?line=7707'>7708</a>\u001b[0m     keys\u001b[39m=\u001b[39;49mby,\n\u001b[0;32m   <a href='file:///c%3A/Users/USER/AppData/Roaming/Python/Python310/site-packages/pandas/core/frame.py?line=7708'>7709</a>\u001b[0m     axis\u001b[39m=\u001b[39;49maxis,\n\u001b[0;32m   <a href='file:///c%3A/Users/USER/AppData/Roaming/Python/Python310/site-packages/pandas/core/frame.py?line=7709'>7710</a>\u001b[0m     level\u001b[39m=\u001b[39;49mlevel,\n\u001b[0;32m   <a href='file:///c%3A/Users/USER/AppData/Roaming/Python/Python310/site-packages/pandas/core/frame.py?line=7710'>7711</a>\u001b[0m     as_index\u001b[39m=\u001b[39;49mas_index,\n\u001b[0;32m   <a href='file:///c%3A/Users/USER/AppData/Roaming/Python/Python310/site-packages/pandas/core/frame.py?line=7711'>7712</a>\u001b[0m     sort\u001b[39m=\u001b[39;49msort,\n\u001b[0;32m   <a href='file:///c%3A/Users/USER/AppData/Roaming/Python/Python310/site-packages/pandas/core/frame.py?line=7712'>7713</a>\u001b[0m     group_keys\u001b[39m=\u001b[39;49mgroup_keys,\n\u001b[0;32m   <a href='file:///c%3A/Users/USER/AppData/Roaming/Python/Python310/site-packages/pandas/core/frame.py?line=7713'>7714</a>\u001b[0m     squeeze\u001b[39m=\u001b[39;49msqueeze,  \u001b[39m# type: ignore[arg-type]\u001b[39;49;00m\n\u001b[0;32m   <a href='file:///c%3A/Users/USER/AppData/Roaming/Python/Python310/site-packages/pandas/core/frame.py?line=7714'>7715</a>\u001b[0m     observed\u001b[39m=\u001b[39;49mobserved,\n\u001b[0;32m   <a href='file:///c%3A/Users/USER/AppData/Roaming/Python/Python310/site-packages/pandas/core/frame.py?line=7715'>7716</a>\u001b[0m     dropna\u001b[39m=\u001b[39;49mdropna,\n\u001b[0;32m   <a href='file:///c%3A/Users/USER/AppData/Roaming/Python/Python310/site-packages/pandas/core/frame.py?line=7716'>7717</a>\u001b[0m )\n",
            "File \u001b[1;32m~\\AppData\\Roaming\\Python\\Python310\\site-packages\\pandas\\core\\groupby\\groupby.py:882\u001b[0m, in \u001b[0;36mGroupBy.__init__\u001b[1;34m(self, obj, keys, axis, level, grouper, exclusions, selection, as_index, sort, group_keys, squeeze, observed, mutated, dropna)\u001b[0m\n\u001b[0;32m    <a href='file:///c%3A/Users/USER/AppData/Roaming/Python/Python310/site-packages/pandas/core/groupby/groupby.py?line=878'>879</a>\u001b[0m \u001b[39mif\u001b[39;00m grouper \u001b[39mis\u001b[39;00m \u001b[39mNone\u001b[39;00m:\n\u001b[0;32m    <a href='file:///c%3A/Users/USER/AppData/Roaming/Python/Python310/site-packages/pandas/core/groupby/groupby.py?line=879'>880</a>\u001b[0m     \u001b[39mfrom\u001b[39;00m \u001b[39mpandas\u001b[39;00m\u001b[39m.\u001b[39;00m\u001b[39mcore\u001b[39;00m\u001b[39m.\u001b[39;00m\u001b[39mgroupby\u001b[39;00m\u001b[39m.\u001b[39;00m\u001b[39mgrouper\u001b[39;00m \u001b[39mimport\u001b[39;00m get_grouper\n\u001b[1;32m--> <a href='file:///c%3A/Users/USER/AppData/Roaming/Python/Python310/site-packages/pandas/core/groupby/groupby.py?line=881'>882</a>\u001b[0m     grouper, exclusions, obj \u001b[39m=\u001b[39m get_grouper(\n\u001b[0;32m    <a href='file:///c%3A/Users/USER/AppData/Roaming/Python/Python310/site-packages/pandas/core/groupby/groupby.py?line=882'>883</a>\u001b[0m         obj,\n\u001b[0;32m    <a href='file:///c%3A/Users/USER/AppData/Roaming/Python/Python310/site-packages/pandas/core/groupby/groupby.py?line=883'>884</a>\u001b[0m         keys,\n\u001b[0;32m    <a href='file:///c%3A/Users/USER/AppData/Roaming/Python/Python310/site-packages/pandas/core/groupby/groupby.py?line=884'>885</a>\u001b[0m         axis\u001b[39m=\u001b[39;49maxis,\n\u001b[0;32m    <a href='file:///c%3A/Users/USER/AppData/Roaming/Python/Python310/site-packages/pandas/core/groupby/groupby.py?line=885'>886</a>\u001b[0m         level\u001b[39m=\u001b[39;49mlevel,\n\u001b[0;32m    <a href='file:///c%3A/Users/USER/AppData/Roaming/Python/Python310/site-packages/pandas/core/groupby/groupby.py?line=886'>887</a>\u001b[0m         sort\u001b[39m=\u001b[39;49msort,\n\u001b[0;32m    <a href='file:///c%3A/Users/USER/AppData/Roaming/Python/Python310/site-packages/pandas/core/groupby/groupby.py?line=887'>888</a>\u001b[0m         observed\u001b[39m=\u001b[39;49mobserved,\n\u001b[0;32m    <a href='file:///c%3A/Users/USER/AppData/Roaming/Python/Python310/site-packages/pandas/core/groupby/groupby.py?line=888'>889</a>\u001b[0m         mutated\u001b[39m=\u001b[39;49m\u001b[39mself\u001b[39;49m\u001b[39m.\u001b[39;49mmutated,\n\u001b[0;32m    <a href='file:///c%3A/Users/USER/AppData/Roaming/Python/Python310/site-packages/pandas/core/groupby/groupby.py?line=889'>890</a>\u001b[0m         dropna\u001b[39m=\u001b[39;49m\u001b[39mself\u001b[39;49m\u001b[39m.\u001b[39;49mdropna,\n\u001b[0;32m    <a href='file:///c%3A/Users/USER/AppData/Roaming/Python/Python310/site-packages/pandas/core/groupby/groupby.py?line=890'>891</a>\u001b[0m     )\n\u001b[0;32m    <a href='file:///c%3A/Users/USER/AppData/Roaming/Python/Python310/site-packages/pandas/core/groupby/groupby.py?line=892'>893</a>\u001b[0m \u001b[39mself\u001b[39m\u001b[39m.\u001b[39mobj \u001b[39m=\u001b[39m obj\n\u001b[0;32m    <a href='file:///c%3A/Users/USER/AppData/Roaming/Python/Python310/site-packages/pandas/core/groupby/groupby.py?line=893'>894</a>\u001b[0m \u001b[39mself\u001b[39m\u001b[39m.\u001b[39maxis \u001b[39m=\u001b[39m obj\u001b[39m.\u001b[39m_get_axis_number(axis)\n",
            "File \u001b[1;32m~\\AppData\\Roaming\\Python\\Python310\\site-packages\\pandas\\core\\groupby\\grouper.py:882\u001b[0m, in \u001b[0;36mget_grouper\u001b[1;34m(obj, key, axis, level, sort, observed, mutated, validate, dropna)\u001b[0m\n\u001b[0;32m    <a href='file:///c%3A/Users/USER/AppData/Roaming/Python/Python310/site-packages/pandas/core/groupby/grouper.py?line=879'>880</a>\u001b[0m         in_axis, level, gpr \u001b[39m=\u001b[39m \u001b[39mFalse\u001b[39;00m, gpr, \u001b[39mNone\u001b[39;00m\n\u001b[0;32m    <a href='file:///c%3A/Users/USER/AppData/Roaming/Python/Python310/site-packages/pandas/core/groupby/grouper.py?line=880'>881</a>\u001b[0m     \u001b[39melse\u001b[39;00m:\n\u001b[1;32m--> <a href='file:///c%3A/Users/USER/AppData/Roaming/Python/Python310/site-packages/pandas/core/groupby/grouper.py?line=881'>882</a>\u001b[0m         \u001b[39mraise\u001b[39;00m \u001b[39mKeyError\u001b[39;00m(gpr)\n\u001b[0;32m    <a href='file:///c%3A/Users/USER/AppData/Roaming/Python/Python310/site-packages/pandas/core/groupby/grouper.py?line=882'>883</a>\u001b[0m \u001b[39melif\u001b[39;00m \u001b[39misinstance\u001b[39m(gpr, Grouper) \u001b[39mand\u001b[39;00m gpr\u001b[39m.\u001b[39mkey \u001b[39mis\u001b[39;00m \u001b[39mnot\u001b[39;00m \u001b[39mNone\u001b[39;00m:\n\u001b[0;32m    <a href='file:///c%3A/Users/USER/AppData/Roaming/Python/Python310/site-packages/pandas/core/groupby/grouper.py?line=883'>884</a>\u001b[0m     \u001b[39m# Add key to exclusions\u001b[39;00m\n\u001b[0;32m    <a href='file:///c%3A/Users/USER/AppData/Roaming/Python/Python310/site-packages/pandas/core/groupby/grouper.py?line=884'>885</a>\u001b[0m     exclusions\u001b[39m.\u001b[39madd(gpr\u001b[39m.\u001b[39mkey)\n",
            "\u001b[1;31mKeyError\u001b[0m: 'overall_rating'"
          ]
        },
        {
          "data": {
            "image/png": "[encoded data removed]",
            "text/plain": [
              "<Figure size 720x432 with 1 Axes>"
            ]
          },
          "metadata": {
            "needs_background": "light"
          },
          "output_type": "display_data"
        }
      ],
      "source": [
        "## DISTRIBUTION OF RATING FOR HELPFULNESS\n",
        "x=df1['rating_class']\n",
        "y=df1['helpful_ratio']\n",
        "#plt.figure(figsize = (10,6))\n",
        "fig, ax = plt.subplots(figsize=(10, 6))\n",
        "df.groupby('overall_rating')['helpful_ratio'].mean().plot(kind='bar', color=['black', 'red', 'green', 'blue', 'cyan']) \n",
        "#df.plot(x, y, legend=True, color='g', ax=ax)\n",
        "plt.title(\"Helpfulness in rating\",color='r')\n",
        "plt.xlabel(\"Rating\")\n",
        "plt.ylabel(\"Helpfulness ratio\")\n",
        "plt.ylim([0, 1])\n",
        "plt.xticks(rotation=0)\n",
        "plt.show()"
      ]
    },
    {
      "cell_type": "markdown",
      "metadata": {
        "id": "vuAOZFQY5woS"
      },
      "source": [
        "# Question 5: Any ideas in order to improve the reviews on Amazon?"
      ]
    },
    {
      "cell_type": "code",
      "execution_count": null,
      "metadata": {
        "id": "l1moIOv15woU",
        "outputId": "cba20d04-9210-4665-8e65-c1c92b72904e"
      },
      "outputs": [
        {
          "data": {
            "text/plain": [
              "<AxesSubplot:>"
            ]
          },
          "execution_count": 91,
          "metadata": {},
          "output_type": "execute_result"
        },
        {
          "data": {
            "image/png": "[encoded data removed]",
            "text/plain": [
              "<Figure size 1008x1008 with 2 Axes>"
            ]
          },
          "metadata": {
            "needs_background": "light"
          },
          "output_type": "display_data"
        }
      ],
      "source": [
        "# Plotting correlation matrix between numeric variables\n",
        "\n",
        "plt.figure(figsize = (14,14))\n",
        "sns.heatmap(df.corr(method=\"pearson\"), cmap='Blues', annot = True)"
      ]
    },
    {
      "cell_type": "code",
      "execution_count": null,
      "metadata": {
        "id": "g8hICvAx5woV",
        "outputId": "fa37941a-433f-4985-8dde-0117af569780"
      },
      "outputs": [
        {
          "data": {
            "text/plain": [
              "<AxesSubplot:>"
            ]
          },
          "execution_count": 92,
          "metadata": {},
          "output_type": "execute_result"
        },
        {
          "data": {
            "image/png": "[encoded data removed]",
            "text/plain": [
              "<Figure size 1008x1008 with 2 Axes>"
            ]
          },
          "metadata": {
            "needs_background": "light"
          },
          "output_type": "display_data"
        }
      ],
      "source": [
        "# Plotting correlation matrix between numeric variables\n",
        "\n",
        "plt.figure(figsize = (14,14))\n",
        "sns.heatmap(df1.corr(method=\"pearson\"), cmap='Blues', annot = True)"
      ]
    },
    {
      "cell_type": "code",
      "execution_count": null,
      "metadata": {
        "id": "OLxmc1KQ5woW",
        "outputId": "9a5684e1-4b83-49af-9aad-3e530bdbe30e"
      },
      "outputs": [
        {
          "data": {
            "text/plain": [
              "<seaborn.axisgrid.PairGrid at 0x29897bdc880>"
            ]
          },
          "execution_count": 93,
          "metadata": {},
          "output_type": "execute_result"
        },
        {
          "data": {
            "image/png": "[encoded data removed]",
            "text/plain": [
              "<Figure size 360x360 with 6 Axes>"
            ]
          },
          "metadata": {
            "needs_background": "light"
          },
          "output_type": "display_data"
        }
      ],
      "source": [
        "sns.pairplot(df)"
      ]
    },
    {
      "cell_type": "code",
      "execution_count": null,
      "metadata": {
        "id": "yuDswWqD5woX"
      },
      "outputs": [],
      "source": [
        "sns.pairplot(df1)"
      ]
    },
    {
      "cell_type": "code",
      "execution_count": null,
      "metadata": {
        "id": "6SbalXjk5woY"
      },
      "outputs": [],
      "source": [
        ""
      ]
    },
    {
      "cell_type": "code",
      "execution_count": null,
      "metadata": {
        "id": "wQiKiqjP5woY"
      },
      "outputs": [],
      "source": [
        ""
      ]
    },
    {
      "cell_type": "code",
      "execution_count": null,
      "metadata": {
        "id": "2tzV1rnk5woZ"
      },
      "outputs": [],
      "source": [
        ""
      ]
    },
    {
      "cell_type": "code",
      "execution_count": null,
      "metadata": {
        "id": "PpaZurrJ5woa"
      },
      "outputs": [],
      "source": [
        ""
      ]
    },
    {
      "cell_type": "code",
      "execution_count": null,
      "metadata": {
        "id": "YOJSmH835woa"
      },
      "outputs": [],
      "source": [
        ""
      ]
    },
    {
      "cell_type": "code",
      "execution_count": null,
      "metadata": {
        "id": "PJ0czc-e5wob"
      },
      "outputs": [],
      "source": [
        ""
      ]
    },
    {
      "cell_type": "code",
      "execution_count": null,
      "metadata": {
        "id": "n1q1bapS5wob",
        "outputId": "48975527-a337-4bc8-a516-037364febe24"
      },
      "outputs": [
        {
          "data": {
            "text/plain": [
              "'\\ndf = pd.read_json(\"C:/Users/USER/OneDrive/Desktop/Interviews/Zalando-Analyst CLV Measurement-wdm position/reviews_Clothing_Shoes_and_Jewelry.json\")  #I decided not to use this dataset to safe time.\\n'"
            ]
          },
          "execution_count": 10,
          "metadata": {},
          "output_type": "execute_result"
        }
      ],
      "source": [
        "\"\"\"\n",
        "df = pd.read_json(\"C:/Users/USER/OneDrive/Desktop/Interviews/Zalando-Analyst CLV Measurement-wdm position/reviews_Clothing_Shoes_and_Jewelry.json\")  #I decided not to use this dataset to safe time.\n",
        "\"\"\""
      ]
    },
    {
      "cell_type": "code",
      "execution_count": null,
      "metadata": {
        "id": "-In8nQ0B5wod"
      },
      "outputs": [],
      "source": [
        ""
      ]
    }
  ],
  "metadata": {
    "interpreter": {
      "hash": "b89b5cfaba6639976dc87ff2fec6d58faec662063367e2c229c520fe71072417"
    },
    "kernelspec": {
      "display_name": "Python 3.10.2 64-bit",
      "language": "python",
      "name": "python3"
    },
    "language_info": {
      "codemirror_mode": {
        "name": "ipython",
        "version": 3
      },
      "file_extension": ".py",
      "mimetype": "text/x-python",
      "name": "python",
      "nbconvert_exporter": "python",
      "pygments_lexer": "ipython3",
      "version": "3.10.2"
    },
    "orig_nbformat": 4,
    "colab": {
      "name": "zalando_task.f.ipynb",
      "provenance": [],
      "include_colab_link": true
    }
  },
  "nbformat": 4,
  "nbformat_minor": 0
}